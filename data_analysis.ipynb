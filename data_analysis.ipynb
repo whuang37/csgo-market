{
 "cells": [
  {
   "cell_type": "markdown",
   "metadata": {},
   "source": [
    "# Data Analysis\n",
    "\n",
    "The following notebook is the data analysis used in the post on CSGO skins and economy. This notebook will follow that same order for organizational sake. Keep note many of the techniques I used may not be the most efficient. Feel free to improve upon what I have done!"
   ]
  },
  {
   "cell_type": "code",
   "execution_count": null,
   "metadata": {},
   "outputs": [],
   "source": [
    "# general imports needed\n",
    "import pandas as pd\n",
    "import numpy as np\n",
    "import matplotlib.pyplot as plt\n",
    "import seaborn as sns\n",
    "from sklearn.linear_model import LinearRegression\n",
    "from datetime import date, timedelta\n",
    "from math import exp\n",
    "%matplotlib inline\n",
    "\n",
    "idx = pd.IndexSlice"
   ]
  },
  {
   "cell_type": "code",
   "execution_count": null,
   "metadata": {},
   "outputs": [],
   "source": [
    "skins = pd.read_excel(\"datasets/all_skins.xlsx\", header = [0,1], index_col = 0)\n",
    "skins = skins.drop(labels = \"2020-09-14\", axis = 1) # 9/14/2020 data was not complete so dropped to preserve accuracy\n",
    "\n",
    "# created a copy of skins as loading the file can take too long\n",
    "# accidental changes to the dataframe can be reverted through this clean copy\n",
    "\n",
    "skins_copy = skins.copy()"
   ]
  },
  {
   "cell_type": "code",
   "execution_count": null,
   "metadata": {},
   "outputs": [],
   "source": [
    "stickers = pd.read_excel(\"datasets/all_stickers.xlsx\", header = [0,1], index_col = 0)\n",
    "stickers = stickers.drop(labels = \"2020-09-14\", axis = 1) # 9/14/2020 data was not complete so dropped to preserve accuracy"
   ]
  },
  {
   "cell_type": "code",
   "execution_count": null,
   "metadata": {},
   "outputs": [],
   "source": [
    "others = pd.read_excel(\"datasets/all_others.xlsx\", header = [0,1], index_col = 0)\n",
    "others = others.drop(labels = \"2020-09-14\", axis = 1)"
   ]
  },
  {
   "cell_type": "code",
   "execution_count": null,
   "metadata": {},
   "outputs": [],
   "source": [
    "# generating a basic dataframe to store calculated values\n",
    "skins_data = skins.loc[:,[\"Weapon\", \"Collection\", \"Quality\", \"Skin\", \"Condition\", \"StatTrak\", \"Souvenir\"]]\n",
    "\n",
    "skins_data.columns = skins_data.columns.droplevel(1) #dropping the second level created for the multiindex"
   ]
  },
  {
   "cell_type": "code",
   "execution_count": null,
   "metadata": {},
   "outputs": [],
   "source": [
    "# dataframe of just skins and knives for easier data analysis\n",
    "skins_price = skins.loc[:, idx[:, \"Price\"]]\n",
    "skins_price.columns = skins_price.columns.droplevel(1)\n",
    "skins_price.columns = pd.to_datetime(skins_price.columns)\n",
    "skins_price"
   ]
  },
  {
   "cell_type": "code",
   "execution_count": null,
   "metadata": {},
   "outputs": [],
   "source": [
    "# dataframe of skin prices with no knives included\n",
    "skins_price_g = skins.loc[:, idx[:, \"Price\"]]\n",
    "skins_price_g.insert(loc = 0, value = skins[\"Quality\"], column = \"Quality\")\n",
    "skins_price_g = skins_price_g[(skins_price_g[\"Quality\"] != \"Extraordinary\") & (skins_price_g[\"Quality\"] != \"Covert\")]\n",
    "skins_price_g = skins_price_g.drop(columns = [\"Quality\"], axis = 1)\n",
    "skins_price_g.columns = skins_price_g.columns.droplevel(1)\n",
    "skins_price_g.columns = pd.to_datetime(skins_price_g.columns)\n",
    "skins_price_g"
   ]
  },
  {
   "cell_type": "code",
   "execution_count": null,
   "metadata": {},
   "outputs": [],
   "source": [
    "# dataframe of skin prices with covert/gloves only included\n",
    "skins_price_kg = skins.loc[:, idx[:, \"Price\"]]\n",
    "skins_price_kg.insert(loc = 0, value = skins[\"Quality\"], column = \"Quality\")\n",
    "skins_price_kg = skins_price_kg[(skins_price_kg[\"Quality\"] == \"Extraordinary\") | (skins_price_kg[\"Quality\"] == \"Covert\")]\n",
    "skins_price_kg = skins_price_kg.drop(columns = [\"Quality\"], axis = 1)\n",
    "skins_price_kg.columns = skins_price_kg.columns.droplevel(1)\n",
    "skins_price_kg.columns = pd.to_datetime(skins_price_kg.columns)\n",
    "skins_price_kg"
   ]
  },
  {
   "cell_type": "code",
   "execution_count": null,
   "metadata": {},
   "outputs": [],
   "source": [
    "# dataframe of just volumes for easier data analysis\n",
    "skins_vol = skins.loc[:, idx[:, \"Volume\"]]\n",
    "skins_vol.columns = skins_vol.columns.droplevel(1)\n",
    "skins_vol.columns = pd.to_datetime(skins_vol.columns)\n",
    "skins_vol"
   ]
  },
  {
   "cell_type": "markdown",
   "metadata": {},
   "source": [
    "# Basic Calculations\n",
    "\n",
    "Used to get a general overview of the composition of the weapon skin economy"
   ]
  },
  {
   "cell_type": "code",
   "execution_count": null,
   "metadata": {},
   "outputs": [],
   "source": [
    "# getting count of stattrak, souvenir, and plain skins\n",
    "st = len(skins[skins[\"StatTrak\", \"Unnamed: 6_level_1\"] == True])\n",
    "sv = len(skins[skins[\"Souvenir\", \"Unnamed: 7_level_1\"] == True])\n",
    "plain = len(skins) - st - sv\n",
    "\n",
    "fig1, ax1 = plt.subplots()\n",
    "fig1.set_size_inches(5,5)\n",
    "ax1.pie([plain, st, sv], labels = [\"Plain\", \"StatTrak\", \"Souvenir\"], autopct = \"%1.1F%%\", startangle = 90)\n",
    "ax1.axis(\"equal\")\n",
    "# plt.savefig(\"graphs/stsvpl.png\", bbox_inches = \"tight\")"
   ]
  },
  {
   "cell_type": "code",
   "execution_count": null,
   "metadata": {},
   "outputs": [],
   "source": [
    "# count of different conditions\n",
    "conditions = skins[\"Condition\", \"Unnamed: 5_level_1\"].value_counts()\n",
    "conditions = conditions.reindex(index = [\"Battle-Scarred\", \"Well-Worn\", \"Field-Tested\", \"Minimal Wear\", \"Factory New\"])\n",
    "fig1, ax1 = plt.subplots()\n",
    "fig1.set_size_inches(5,5)\n",
    "ax1.pie(conditions, labels = conditions.index, autopct = \"%1.1F%%\", startangle = 90)\n",
    "ax1.axis(\"equal\")\n",
    "# plt.savefig(\"graphs/conditions.png\", bbox_inches = \"tight\")"
   ]
  },
  {
   "cell_type": "code",
   "execution_count": null,
   "metadata": {},
   "outputs": [],
   "source": [
    "# count of the qualities\n",
    "qualities = skins[\"Quality\", \"Unnamed: 3_level_1\"].value_counts()\n",
    "qualities = qualities.reindex(index = [\"Consumer Grade\", \"Industrial Grade\", \"Mil-Spec\", \"Restricted\", \"Classified\", \"Contraband\", \"Covert\", \"Extraordinary\"])\n",
    "colors = [\"white\",\"lightblue\", \"royalblue\", \"mediumpurple\", \"magenta\",\"darkgoldenrod\", \"red\", \"gold\"]\n",
    "fig1, ax1 = plt.subplots()\n",
    "fig1.set_size_inches(5,5)\n",
    "ax1.pie(qualities, labels = qualities.index, autopct = \"%1.1F%%\", colors = colors, startangle = 90)\n",
    "ax1.axis(\"equal\")\n",
    "# plt.savefig(\"graphs/qualities.png\", bbox_inches = \"tight\")"
   ]
  },
  {
   "cell_type": "code",
   "execution_count": null,
   "metadata": {},
   "outputs": [],
   "source": [
    "skins_data[\"AVG Price\"] = skins_price.mean(axis = 1)"
   ]
  },
  {
   "cell_type": "code",
   "execution_count": null,
   "metadata": {},
   "outputs": [],
   "source": [
    "skins_data[\"AVG Price\"].mean()"
   ]
  },
  {
   "cell_type": "code",
   "execution_count": null,
   "metadata": {},
   "outputs": [],
   "source": [
    "skins_data[\"AVG Price\"].std()"
   ]
  },
  {
   "cell_type": "code",
   "execution_count": null,
   "metadata": {},
   "outputs": [],
   "source": [
    "skins_data[\"AVG Daily Volume\"] = skins_vol.mean(axis = 1)"
   ]
  },
  {
   "cell_type": "code",
   "execution_count": null,
   "metadata": {},
   "outputs": [],
   "source": [
    "skins_data[\"AVG Daily Volume\"].mean()"
   ]
  },
  {
   "cell_type": "code",
   "execution_count": null,
   "metadata": {},
   "outputs": [],
   "source": [
    "skins_data[\"AVG Daily Volume\"].std()"
   ]
  },
  {
   "cell_type": "code",
   "execution_count": null,
   "metadata": {},
   "outputs": [],
   "source": [
    "# volume weighted average price\n",
    "np.nansum((skins_price.mul(skins_vol)).values)/ np.nansum(skins_vol.values)"
   ]
  },
  {
   "cell_type": "code",
   "execution_count": null,
   "metadata": {},
   "outputs": [],
   "source": [
    "skins_data[\"Total Vol\"] = skins_vol.apply(lambda row: np.nansum(row), axis = 1)"
   ]
  },
  {
   "cell_type": "code",
   "execution_count": null,
   "metadata": {},
   "outputs": [],
   "source": [
    "skins_data[\"First Date Sold\"] = skins_price.apply(lambda row: pd.Series.first_valid_index(row), axis = 1)"
   ]
  },
  {
   "cell_type": "code",
   "execution_count": null,
   "metadata": {},
   "outputs": [],
   "source": [
    "# calculating the daily volume sold \n",
    "vol_daily = skins_vol.apply(lambda column: np.nansum(column))\n",
    "vol_daily.index = vol_daily.index.droplevel(1)\n",
    "vol_daily = vol_daily.reset_index()\n",
    "vol_daily[\"index\"] = pd.to_datetime(vol_daily[\"index\"])\n",
    "vol_daily.columns = [\"Date\", \"Vol\"]\n",
    "\n",
    "vol_daily = vol_daily[(vol_daily[\"Vol\"] != 0)] # removing empty days at the start\n",
    "\n",
    "vol_daily"
   ]
  },
  {
   "cell_type": "code",
   "execution_count": null,
   "metadata": {},
   "outputs": [],
   "source": [
    "# unused graph of the volume of skins sold per day\n",
    "plt.figure(figsize = (25,10))\n",
    "plt.plot(vol_daily[\"Date\"], vol_daily[\"Vol\"])\n",
    "plt.xlabel(\"Time (days)\", size = 15)\n",
    "plt.ylabel(\"Volume of Skins Sold (100,000 skins)\", size = 15)\n",
    "# plt.savefig(\"graphs/dailyvol_time.png\")"
   ]
  },
  {
   "cell_type": "markdown",
   "metadata": {},
   "source": [
    "# Appreciation Calculations\n",
    "\n",
    "Different analyses used to analyze how much a skin appreciates"
   ]
  },
  {
   "cell_type": "code",
   "execution_count": null,
   "metadata": {},
   "outputs": [],
   "source": [
    "# these delete all the prior NaN values and make it so each skin starts from 0 days from release up\n",
    "appreciation_dates = skins_price.apply(lambda x: pd.Series(x.loc[x.first_valid_index():].values), axis = 1)\n",
    "appreciation_dates_g = skins_price_g.apply(lambda x: pd.Series(x.loc[x.first_valid_index():].values), axis = 1)\n",
    "appreciation_dates_kg = skins_price_kg.apply(lambda x: pd.Series(x.loc[x.first_valid_index():].values), axis = 1)"
   ]
  },
  {
   "cell_type": "code",
   "execution_count": null,
   "metadata": {},
   "outputs": [],
   "source": [
    "# gets the last date sold 9-13-2020\n",
    "last_dates = skins_price.fillna(method = \"ffill\", axis = 1)[\"2020-09-13\"] # forward fill to take the last date sold's price\n",
    "last_dates_g = skins_price_g.fillna(method = \"ffill\", axis = 1)[\"2020-09-13\"]\n",
    "last_dates_kg = skins_price_g.fillna(method = \"ffill\", axis = 1)[\"2020-09-13\"]"
   ]
  },
  {
   "cell_type": "code",
   "execution_count": null,
   "metadata": {},
   "outputs": [],
   "source": [
    "# average appreciation from day 1\n",
    "app = ((last_dates.sub(appreciation_dates[0])).div(appreciation_dates[0], axis = 0) * 100)\n",
    "plt.figure(figsize = (7, 7))\n",
    "plt.xlim(-1000, 1000)\n",
    "plt.xlabel(\"Price Percent Change from Release Day (%)\", size = 15)\n",
    "plt.ylabel(\"Number of Items\", size =15)\n",
    "plt.title(\"Percent Change in Price from Release to 9/13/2020\", size = 20)\n",
    "plt.hist(app, bins = 40000)\n",
    "plt.annotate(text = \"mean: {}\\nmedian: {}\".format(round(app.mean(), 2), round(app.median(), 2)) ,xy = (300, 300))\n",
    "plt.axvline(0, color = \"black\")\n",
    "plt.savefig(\"graphs/appreleasenow.png\")"
   ]
  },
  {
   "cell_type": "code",
   "execution_count": null,
   "metadata": {},
   "outputs": [],
   "source": [
    "# percent change from day 1\n",
    "decrease_1 = (((appreciation_dates.div(appreciation_dates[0], axis = 0)) * 100).mean()).rolling(20).mean()\n",
    "decrease_2 = (((appreciation_dates_g.div(appreciation_dates_g[0], axis = 0)) * 100).mean()).rolling(20).mean()\n",
    "decrease_3 = (((appreciation_dates_kg.div(appreciation_dates_kg[0], axis = 0)) * 100).mean()).rolling(20).mean()"
   ]
  },
  {
   "cell_type": "code",
   "execution_count": null,
   "metadata": {},
   "outputs": [],
   "source": [
    "# Price over time as a percentage of release date price. \n",
    "plt.figure(figsize = (20,7))\n",
    "plt.margins(0)\n",
    "plt.axhline(100, color = \"black\")\n",
    "plt.xlabel(\"Days since Release (days)\", size = 15)\n",
    "plt.ylabel(\"Avg Percentage of Release Day Price (%)\", size = 15)\n",
    "plt.title(\"Average Percentage of Release Day Price over Time\", size = 20)\n",
    "#plt.xlim(left = 0, right = 100)\n",
    "#plt.ylim(bottom = -50, top = 5)\n",
    "plt.plot(decrease_1, label = \"All\")\n",
    "plt.plot(decrease_2, label = \"Non Covert/Extraordinary Skins\")\n",
    "plt.plot(decrease_3, label = \"Covert/Extraordinary Skins\")\n",
    "\n",
    "#linear regression\n",
    "y = np.array(decrease_1.dropna())\n",
    "x = np.array(decrease_1.dropna().index).reshape((-1,1))\n",
    "\n",
    "model = LinearRegression().fit(x,y)\n",
    "print(model.coef_, model.intercept_, model.score(x,y))\n",
    "x_coord = decrease_1.dropna().index\n",
    "y_coord = model.coef_[0] * x + model.intercept_\n",
    "plt.annotate(text = f\"{round(model.coef_[0],4)}x + {round(model.intercept_, 4)}\\nR² = {round(model.score(x,y), 4)}\", xy = (50, 350))\n",
    "plt.plot(x_coord, y_coord, label = \"Linear Regression of All\")\n",
    "\n",
    "plt.legend()\n",
    "# plt.savefig(\"graphs/percentchangeall3.png\")"
   ]
  },
  {
   "cell_type": "code",
   "execution_count": null,
   "metadata": {},
   "outputs": [],
   "source": [
    "# mean value of non covert/extraordinary 1 year after release\n",
    "decrease_2[:365].mean()"
   ]
  },
  {
   "cell_type": "code",
   "execution_count": null,
   "metadata": {},
   "outputs": [],
   "source": [
    "# getting the slope of the linear regression\n",
    "def lin_reg(row):\n",
    "    try:\n",
    "        x = np.array(row.dropna().index).reshape((-1,1))\n",
    "        y = np.array(row.dropna())\n",
    "\n",
    "        model = LinearRegression().fit(x, y)\n",
    "\n",
    "        return model.coef_[0]\n",
    "    except:\n",
    "        pass"
   ]
  },
  {
   "cell_type": "code",
   "execution_count": null,
   "metadata": {},
   "outputs": [],
   "source": [
    "# plot of the slopes of linear regression\n",
    "m = ((appreciation_dates.div(appreciation_dates[0], axis = 0))*100).apply(lambda row: lin_reg(row), axis = 1) # applying linear regression for each row\n",
    "plt.figure(figsize = (7, 7))\n",
    "plt.xlabel(\"Slope of Price as Percentage of Release Price (%)\", size = 15)\n",
    "plt.ylabel(\"Number of Items\", size =15)\n",
    "plt.title(\"Distribution of Slope of Price as Percentage of Release Price\", size = 20)\n",
    "plt.annotate(text = \"mean: {}\\nmedian: {}\".format(round(m.mean(), 2), round(m.median(), 2)) ,xy = (.5, 1000))\n",
    "plt.axvline(0, color = \"black\")\n",
    "plt.hist(m, bins = 15000)\n",
    "plt.xlim(-1, 1)\n",
    "\n",
    "# plt.savefig(\"graphs/appslope.png\")"
   ]
  },
  {
   "cell_type": "code",
   "execution_count": null,
   "metadata": {},
   "outputs": [],
   "source": [
    "m.mean()"
   ]
  },
  {
   "cell_type": "code",
   "execution_count": null,
   "metadata": {},
   "outputs": [],
   "source": [
    "# percentage of skins with positive slope\n",
    "len(m.where(m>0).dropna())/len(m)"
   ]
  },
  {
   "cell_type": "markdown",
   "metadata": {},
   "source": [
    "# WHEN TO BUY IN\n",
    "\n",
    "Calculating the minimum price and other metrics"
   ]
  },
  {
   "cell_type": "code",
   "execution_count": null,
   "metadata": {},
   "outputs": [],
   "source": [
    "# plotting first 100 days\n",
    "decrease = (((appreciation_dates_g.div(appreciation_dates_g[0], axis = 0)) * 100).mean())\n",
    "plt.figure(figsize = (20,7))\n",
    "plt.margins(0)\n",
    "plt.axhline(100, color = \"black\")\n",
    "plt.xlabel(\"Days since Release (days)\", size = 15)\n",
    "plt.ylabel(\"Avg Percentage of Release Day Price (%)\", size = 15)\n",
    "plt.title(\"Average Percentage of Release Day Price over First 100 Days (Non Covert/Extraordinary)\", size = 20)\n",
    "plt.xlim(left = 0, right = 100)\n",
    "plt.ylim(bottom = 0, top = 100)\n",
    "plt.plot(decrease)\n",
    "\n",
    "plt.savefig(\"graphs/percentchangeskins100days.png\")"
   ]
  },
  {
   "cell_type": "code",
   "execution_count": null,
   "metadata": {},
   "outputs": [],
   "source": [
    "# calculating potential profits if bought and held to this day\n",
    "# defunct and removed\n",
    "profits = (-appreciation_dates.sub(last_dates, axis = 0).div(appreciation_dates) * 100).mean().rolling(14).mean()\n",
    "\n",
    "y = np.array(profits.dropna())\n",
    "x = np.array(profits.dropna().index).reshape((-1,1))\n",
    "\n",
    "# linear regression\n",
    "model = LinearRegression().fit(x,y)\n",
    "print(model.coef_, model.intercept_, model.score(x,y))\n",
    "x_coord = profits.dropna().index\n",
    "y_coord = model.coef_[0] * x + model.intercept_\n",
    "\n",
    "plt.figure(figsize = (20,7))\n",
    "plt.plot(profits)\n",
    "plt.margins(0)\n",
    "plt.axhline(0, color = \"black\")\n",
    "plt.plot(x_coord, y_coord, label = \"Linear Regression\")\n",
    "plt.xlabel(\"Days since Release (days)\", size = 15)\n",
    "plt.ylabel(\"Avg Percent Profited (%)\", size = 15)\n",
    "plt.title(\"Percent Profited if Sold on 9/13/2020 vs Days Since Release\", size = 20)\n",
    "plt.annotate(text = f\"{round(model.coef_[0],4)}x + {round(model.intercept_, 4)}\\nR² = {round(model.score(x,y), 4)}\", xy = (900, 200))\n",
    "plt.legend()\n",
    "\n",
    "# plt.savefig(\"graphs/percentgain.png\")"
   ]
  },
  {
   "cell_type": "code",
   "execution_count": null,
   "metadata": {},
   "outputs": [],
   "source": [
    "# calculating best possible day to buy in and hold\n",
    "price_min = appreciation_dates.idxmin(axis = 1)\n",
    "plt.figure(figsize = (7, 7))\n",
    "plt.margins(0)\n",
    "annotation = f\"mean: {round(price_min.mean())}\\nmedian: {round(price_min.median())} \\nmode: {round(price_min.mode()[0])}\"\n",
    "plt.annotate(text = annotation, xy = (500, 400))\n",
    "plt.xlabel(\"Days since Release (days)\", size = 15)\n",
    "plt.ylabel(\"Number of Skins\", size = 15)\n",
    "plt.title(\"Distribution of When the Minimum Price Occurs\", size = 20)\n",
    "plt.hist(price_min, bins = 100)\n",
    "\n",
    "# plt.savefig(\"graphs/distributionofminimum.png\")"
   ]
  },
  {
   "cell_type": "code",
   "execution_count": null,
   "metadata": {},
   "outputs": [],
   "source": [
    "len(price_min.where(price_min == ).dropna()) / len(price_min)"
   ]
  },
  {
   "cell_type": "code",
   "execution_count": null,
   "metadata": {},
   "outputs": [],
   "source": [
    "price_min.std()"
   ]
  },
  {
   "cell_type": "code",
   "execution_count": null,
   "metadata": {},
   "outputs": [],
   "source": [
    "# calculating best possible day to sell\n",
    "price_max = appreciation_dates.idxmax(axis = 1)\n",
    "plt.figure(figsize = (7, 7))\n",
    "plt.margins(0)\n",
    "annotation = f\"mean: {round(price_max.mean())}\\nmedian: {round(price_max.median())} \\nmode: {round(price_max.mode()[0])}\"\n",
    "plt.annotate(text = annotation, xy = (500, 400))\n",
    "plt.xlabel(\"Days since Release (days)\", size = 15)\n",
    "plt.ylabel(\"Number of Skins\", size = 15)\n",
    "plt.title(\"Distribution of When the Maximum Price Occurs\", size = 20)\n",
    "plt.hist(price_max, bins = 100)\n",
    "\n",
    "# plt.savefig(\"graphs/distributionofmaximum.png\")"
   ]
  },
  {
   "cell_type": "code",
   "execution_count": null,
   "metadata": {},
   "outputs": [],
   "source": [
    "price_max.mean()"
   ]
  },
  {
   "cell_type": "code",
   "execution_count": null,
   "metadata": {},
   "outputs": [],
   "source": [
    "# counting how many items had a max per day after release day\n",
    "price_max.where(price_max != 0).value_counts().mean()"
   ]
  },
  {
   "cell_type": "code",
   "execution_count": null,
   "metadata": {},
   "outputs": [],
   "source": [
    "# mean without release day\n",
    "price_max.where(price_max != 0).mean()"
   ]
  },
  {
   "cell_type": "code",
   "execution_count": null,
   "metadata": {},
   "outputs": [],
   "source": [
    "# calculating how much time to wait before selling after buying on minimum\n",
    "def when_to_sell(row):\n",
    "    index_min = row.idxmin()\n",
    "    try:\n",
    "        return row.iloc[index_min:].idxmax()\n",
    "    except:\n",
    "        return\n",
    "time_sell = appreciation_dates.apply(lambda row: when_to_sell(row), axis = 1) - price_min\n",
    "\n",
    "plt.figure(figsize = (7, 7))\n",
    "plt.margins(0)\n",
    "annotation = f\"mean: {round(time_sell.mean())}\\nmedian: {round(time_sell.median())} \\nmode: {round(time_sell.mode()[0])}\"\n",
    "plt.annotate(text = annotation, xy = (500, 400))\n",
    "plt.xlabel(\"Days since Minimum Price (days)\", size = 15)\n",
    "plt.ylabel(\"Number of Skins\", size = 15)\n",
    "plt.title(\"Distribution of Time Taken to find next Max after Min\", size = 20)\n",
    "plt.hist(time_sell, bins = 100)\n",
    "\n",
    "# plt.savefig(\"graphs/timetaketofindmax.png\")"
   ]
  },
  {
   "cell_type": "code",
   "execution_count": null,
   "metadata": {},
   "outputs": [],
   "source": [
    "time_sell.std()"
   ]
  },
  {
   "cell_type": "code",
   "execution_count": null,
   "metadata": {},
   "outputs": [],
   "source": [
    "# amount of items to wait over 1 year to sell\n",
    "len(time_sell.where(time_sell>365).dropna())/len(time_sell)"
   ]
  },
  {
   "cell_type": "markdown",
   "metadata": {},
   "source": [
    "# VOLATILITY MEASUREMENTS\n",
    "\n",
    "Volatility primarily focuses on STD."
   ]
  },
  {
   "cell_type": "code",
   "execution_count": null,
   "metadata": {},
   "outputs": [],
   "source": [
    "std_20d = skins_price.rolling(window = 20, axis = 1).std() # 20 day rolling standard deviation\n",
    "m_20d = skins_price.rolling(window = 20, axis =1).mean() # 20 day rolling mean\n",
    "\n",
    "std = (std_20d.div(m_20d)*100).mean(axis = 1) # standard deviation as a percentage of the rolling mean\n",
    "\n",
    "plt.figure(figsize = (7, 7))\n",
    "plt.margins(0)\n",
    "annotation = f\"mean: {round(std.mean(), 2)}\\nmedian: {round(std.median(), 2)}\"\n",
    "plt.annotate(text = annotation, xy = (50, 400))\n",
    "plt.xlabel(\"20D Avg STD as Percentage of Average (%)\", size = 15)\n",
    "plt.ylabel(\"Number of Skins\", size = 15)\n",
    "plt.title(\"Distribution of 20D Avg STD as Percentage of Average\", size = 20)\n",
    "plt.xlim(0, 100)\n",
    "plt.hist(std, bins = 500)\n",
    "# plt.savefig(\"graphs/20dstd.png\")"
   ]
  },
  {
   "cell_type": "code",
   "execution_count": null,
   "metadata": {},
   "outputs": [],
   "source": [
    "skins_data[\"20dSTD\"] = std "
   ]
  },
  {
   "cell_type": "code",
   "execution_count": null,
   "metadata": {},
   "outputs": [],
   "source": [
    "std.std()"
   ]
  },
  {
   "cell_type": "markdown",
   "metadata": {},
   "source": [
    "# Swing Trading"
   ]
  },
  {
   "cell_type": "code",
   "execution_count": null,
   "metadata": {},
   "outputs": [],
   "source": [
    "# amount of items you could theoretically make a profit on by using volatility\n",
    "len(std.where(std > 8.105).dropna())/ len(std)"
   ]
  },
  {
   "cell_type": "code",
   "execution_count": null,
   "metadata": {},
   "outputs": [],
   "source": [
    "skins_data[(skins_data[\"20dSTD\"] > .8105) & (skins_data[\"AVG Daily Volume\"] > 100) & (skins_data[\"AVG Price\"] > .5)]"
   ]
  },
  {
   "cell_type": "markdown",
   "metadata": {},
   "source": [
    "## 20d STD AVG vs AVG Price\n",
    "### UNUSED"
   ]
  },
  {
   "cell_type": "code",
   "execution_count": null,
   "metadata": {},
   "outputs": [],
   "source": [
    "plt.figure(figsize = (15,15))\n",
    "sns.jointplot(x = skins_data[\"AVG Price\"], y = skins_data[\"20dSTD AVG\"], dropna = True, xlim = (-20, 100), ylim = (-2, 2), marker = \"+\")"
   ]
  },
  {
   "cell_type": "code",
   "execution_count": null,
   "metadata": {},
   "outputs": [],
   "source": [
    "plt.figure(figsize = (15,15))\n",
    "sns.jointplot(x = skins_data[\"AVG Price\"], y = skins_data[\"20dSTD AVG\"], dropna = True, xlim = (0, 100), ylim = (0, 2), marker = \"+\")"
   ]
  },
  {
   "cell_type": "markdown",
   "metadata": {},
   "source": [
    "# Discontinued Items"
   ]
  },
  {
   "cell_type": "code",
   "execution_count": null,
   "metadata": {},
   "outputs": [],
   "source": [
    "# howl 6-11-2014\n",
    "dates_list = [(date(2014, 6, 11) + timedelta(days = i)).strftime(\"%Y-%m-%d\") for i in range(-30, 30)]\n",
    "hwl = skins[skins[\"Skin\", \"Unnamed: 4_level_1\"] == \"Howl\"].loc[:, idx[dates_list, \"Price\"]].mean().values"
   ]
  },
  {
   "cell_type": "code",
   "execution_count": null,
   "metadata": {},
   "outputs": [],
   "source": [
    "# griffin 12-9-2014\n",
    "dates_list = [(date(2014, 12, 9) + timedelta(days = i)).strftime(\"%Y-%m-%d\") for i in range(-30, 30)]\n",
    "grif = skins[skins[\"Skin\", \"Unnamed: 4_level_1\"] == \"Griffin\"].loc[:, idx[dates_list, \"Price\"]].mean().values"
   ]
  },
  {
   "cell_type": "code",
   "execution_count": null,
   "metadata": {},
   "outputs": [],
   "source": [
    "# dualies retribution 6-11-2014\n",
    "dates_list = [(date(2014, 6, 11) + timedelta(days = i)).strftime(\"%Y-%m-%d\") for i in range(-30, 30)]\n",
    "retr = skins[(skins[\"Skin\", \"Unnamed: 4_level_1\"] == \"Retribution\") & (skins[\"StatTrak\", \"Unnamed: 6_level_1\"] == True)].loc[:, idx[dates_list, \"Price\"]].mean().values"
   ]
  },
  {
   "cell_type": "code",
   "execution_count": null,
   "metadata": {},
   "outputs": [],
   "source": [
    "# p90 desert warfare 6-11-2014\n",
    "dates_list = [(date(2014, 6, 11) + timedelta(days = i)).strftime(\"%Y-%m-%d\") for i in range(-30, 30)]\n",
    "deswar = skins[(skins[\"Skin\", \"Unnamed: 4_level_1\"] == \"Desert Warfare\") & (skins[\"StatTrak\", \"Unnamed: 6_level_1\"] == True)].loc[:, idx[dates_list, \"Price\"]].mean().values"
   ]
  },
  {
   "cell_type": "code",
   "execution_count": null,
   "metadata": {},
   "outputs": [],
   "source": [
    "# cz75 poison dart 6-11-2014\n",
    "dates_list = [(date(2014, 6, 11) + timedelta(days = i)).strftime(\"%Y-%m-%d\") for i in range(-30, 30)]\n",
    "poidart = skins[(skins[\"Skin\", \"Unnamed: 4_level_1\"] == \"Poison Dart\") & (skins[\"StatTrak\", \"Unnamed: 6_level_1\"] == True)].loc[:, idx[dates_list, \"Price\"]].mean().values"
   ]
  },
  {
   "cell_type": "code",
   "execution_count": null,
   "metadata": {},
   "outputs": [],
   "source": [
    "# mac10 curse 6-11-2014\n",
    "dates_list = [(date(2014, 6, 11) + timedelta(days = i)).strftime(\"%Y-%m-%d\") for i in range(-30, 30)]\n",
    "curse = skins[(skins[\"Skin\", \"Unnamed: 4_level_1\"] == \"Curse\") & (skins[\"StatTrak\", \"Unnamed: 6_level_1\"] == True)].loc[:, idx[dates_list, \"Price\"]].mean().values"
   ]
  },
  {
   "cell_type": "code",
   "execution_count": null,
   "metadata": {},
   "outputs": [],
   "source": [
    "# usps orion 6-11-2014\n",
    "dates_list = [(date(2014, 6, 11) + timedelta(days = i)).strftime(\"%Y-%m-%d\") for i in range(-30, 30)]\n",
    "orion = skins[(skins[\"Skin\", \"Unnamed: 4_level_1\"] == \"Orion\") & (skins[\"StatTrak\", \"Unnamed: 6_level_1\"] == True)].loc[:, idx[dates_list, \"Price\"]].mean().values"
   ]
  },
  {
   "cell_type": "code",
   "execution_count": null,
   "metadata": {},
   "outputs": [],
   "source": [
    "# mp5 labrats curse 1-9-2019\n",
    "dates_list = [(date(2019, 1, 9) + timedelta(days = i)).strftime(\"%Y-%m-%d\") for i in range(-30, 30)]\n",
    "labrats = skins[(skins[\"Skin\", \"Unnamed: 4_level_1\"] == \"Lab Rats\")].loc[:, idx[dates_list, \"Price\"]].mean().values"
   ]
  },
  {
   "cell_type": "code",
   "execution_count": null,
   "metadata": {},
   "outputs": [],
   "source": [
    "# price before and after controversy/discontinued\n",
    "plt.figure(figsize = (20,7))\n",
    "plt.margins(0)\n",
    "plt.xlabel(\"Days from Discontinued Date (days)\", size = 15)\n",
    "plt.ylabel(\"Average Price ($)\", size = 15)\n",
    "plt.title(\"AVG Price Before/After being Discontinued\", size = 20)\n",
    "plt.yscale(\"log\")\n",
    "i = 0\n",
    "discontinued = [\"M4A4 | Howl\", \"M4A4 | Griffin\", \"StatTrak Dual Berettas | Retribution\", \"StatTrak P90 | Desert Warfare\"\n",
    "                , \"StatTrak CZ-75 | Poison Dart\", \"StatTrak MAC-10 | Curse\", \"StatTrak USP-S | Orion\", \"Souvenir MP5 | Lab Rats\"]\n",
    "for x in (hwl, grif, retr, deswar, poidart, curse, orion, labrats):\n",
    "    plt.plot([i for i in range(-30, 30)], x, label= discontinued[i])\n",
    "    i += 1\n",
    "    \n",
    "\n",
    "plt.legend()\n",
    "# plt.savefig(\"graphs/discontinued.png\")"
   ]
  },
  {
   "cell_type": "code",
   "execution_count": null,
   "metadata": {},
   "outputs": [],
   "source": [
    "avg_p_b = []\n",
    "avg_p_a = []\n",
    "\n",
    "swing = []\n",
    "for x in (hwl, grif, retr, deswar, poidart, curse, orion, labrats):\n",
    "    before = np.nanmean(x[0:30])\n",
    "    after = np.nanmean(x[31:60])\n",
    "    s = x[31]/x[30]\n",
    "    avg_p_b.append(before)\n",
    "    avg_p_a.append(after)\n",
    "    swing.append(s)\n",
    "avg_p_b = pd.Series(avg_p_b) # avg price before discontinued\n",
    "avg_p_a = pd.Series(avg_p_a) # avg price after being discontinued\n",
    "swing = pd.Series(swing) # change on discontinued date"
   ]
  },
  {
   "cell_type": "code",
   "execution_count": null,
   "metadata": {},
   "outputs": [],
   "source": [
    "swing.mean()"
   ]
  },
  {
   "cell_type": "code",
   "execution_count": null,
   "metadata": {},
   "outputs": [],
   "source": [
    "swing.std()"
   ]
  },
  {
   "cell_type": "markdown",
   "metadata": {},
   "source": [
    "# Skin Index"
   ]
  },
  {
   "cell_type": "code",
   "execution_count": null,
   "metadata": {},
   "outputs": [],
   "source": [
    "# summing how many unique items sold per day\n",
    "total_items = []\n",
    "for day, values in skins_vol.iteritems():\n",
    "    total_items.append(len(values.dropna()))\n",
    "  \n",
    "total_items = np.array(total_items)"
   ]
  },
  {
   "cell_type": "code",
   "execution_count": null,
   "metadata": {},
   "outputs": [],
   "source": [
    "daily_avg_price = skins_price.mean()\n",
    "daily_avg_vol = (skins_vol.sum()).div(total_items)\n",
    "\n",
    "index = daily_avg_price*daily_avg_vol"
   ]
  },
  {
   "cell_type": "code",
   "execution_count": null,
   "metadata": {},
   "outputs": [],
   "source": [
    "# graphing the index\n",
    "plt.figure(figsize = (20,7))\n",
    "plt.plot(index[15:], color = \"lightblue\", alpha = .5)\n",
    "plt.plot(index[15:].rolling(window=20).mean())\n",
    "plt.margins(0)\n",
    "plt.xlabel(\"Date\", size = 15)\n",
    "plt.ylabel(\"Price ($)\", size = 15)\n",
    "plt.title(\"CSGO Skin Index\", size = 20)\n",
    "\n",
    "# plt.savefig(\"graphs/skinindex.png\")"
   ]
  },
  {
   "cell_type": "code",
   "execution_count": null,
   "metadata": {},
   "outputs": [],
   "source": [
    "# bollinger bands\n",
    "plt.figure(figsize = (20,7))\n",
    "rolling_index = index[15:].rolling(window=20).mean()\n",
    "rolling_std = index[15:].rolling(window = 20).std()\n",
    "upper = rolling_index + 2 * rolling_std # upper bollinger band\n",
    "lower = rolling_index - 2 * rolling_std # lower bollinger band\n",
    "plt.plot(upper, color = \"lightblue\", label = \"Bollinger Band\")\n",
    "plt.plot(lower, color = \"lightblue\")\n",
    "plt.fill_between(upper.index, upper, lower, alpha = .5, color = \"lightblue\")\n",
    "plt.plot(rolling_index, label = \"Index\")\n",
    "plt.margins(0)\n",
    "plt.xlabel(\"Date\", size = 15)\n",
    "plt.ylabel(\"Price ($)\", size = 15)\n",
    "plt.title(\"CSGO Skins Index\", size = 20)\n",
    "plt.legend()\n",
    "\n",
    "# plt.savefig(\"graphs/skinindexavg.png\")"
   ]
  },
  {
   "cell_type": "code",
   "execution_count": null,
   "metadata": {},
   "outputs": [],
   "source": [
    "# gambling ban price drop\n",
    "(index[\"2016-07-11\"] - index[\"2016-07-10\"])/index[\"2016-07-10\"]"
   ]
  },
  {
   "cell_type": "markdown",
   "metadata": {},
   "source": [
    "# Steam Summer Sales"
   ]
  },
  {
   "cell_type": "code",
   "execution_count": null,
   "metadata": {},
   "outputs": [],
   "source": [
    "# steam summer sales\n",
    "plt.figure(figsize = (20,7))\n",
    "values = pd.DataFrame(columns = [x for x in range(-30, 31)])\n",
    "sales = [date(2020, 6, 25), date(2019, 6, 25), date(2018, 6, 21), date(2017,6,22), date(2016,6,23), date(2016,6,11), date(2014, 6, 29)]\n",
    "for sale_date in sales:\n",
    "    begin = (sale_date - timedelta(days = 30)).strftime(\"%Y-%m-%d\")\n",
    "    end = (sale_date + timedelta(days = 30)).strftime(\"%Y-%m-%d\")\n",
    "    sale_time = index[begin:end]\n",
    "    sale_time.index = values.columns\n",
    "    values = values.append(sale_time, ignore_index = True)\n",
    "plt.margins(0)\n",
    "plt.xlabel(\"Days from Steam Summer Sale Launch\", size = 15)\n",
    "plt.ylabel(\"AVG Price of Index ($)\", size = 15)\n",
    "plt.title(\"AVG Index Price during Steam Summer Sale\", size = 20)   \n",
    "plt.plot(values.mean())\n",
    "plt.savefig(\"graphs/summersale.png\")"
   ]
  },
  {
   "cell_type": "code",
   "execution_count": null,
   "metadata": {},
   "outputs": [],
   "source": [
    "# percent change due to the summer sale starting\n",
    "((values[2]-values[-1])/(values[-1]))"
   ]
  },
  {
   "cell_type": "markdown",
   "metadata": {},
   "source": [
    "# Stickers"
   ]
  },
  {
   "cell_type": "code",
   "execution_count": null,
   "metadata": {},
   "outputs": [],
   "source": [
    "qualities = stickers[\"Quality\", \"Unnamed: 3_level_1\"].value_counts()"
   ]
  },
  {
   "cell_type": "code",
   "execution_count": null,
   "metadata": {},
   "outputs": [],
   "source": [
    "# count of the qualities\n",
    "colors = [\"royalblue\", \"mediumpurple\", \"magenta\", \"red\", \"goldenrod\"]\n",
    "fig1, ax1 = plt.subplots()\n",
    "fig1.set_size_inches(5,5)\n",
    "ax1.pie(qualities, labels = qualities.index, autopct = \"%1.1F%%\", colors = colors, startangle = 90)\n",
    "ax1.axis(\"equal\")\n",
    "# plt.savefig(\"graphs/stickqualities.png\", bbox_inches = \"tight\")"
   ]
  },
  {
   "cell_type": "code",
   "execution_count": null,
   "metadata": {},
   "outputs": [],
   "source": [
    "tourney = stickers[stickers[\"Collection\", 'Unnamed: 2_level_1'].str.contains(\"20\")] # all stickers with 20 in name\n",
    "tourney = tourney[(tourney[\"Collection\", \"Unnamed: 2_level_1\"] != \"Community Stickers Halloween 2014\") & (tourney[\"Collection\", \"Unnamed: 2_level_1\"] != \"Community Capsule 2018\")] # removing the non tourney ones"
   ]
  },
  {
   "cell_type": "code",
   "execution_count": null,
   "metadata": {},
   "outputs": [],
   "source": [
    "# ploting tourney stickers\n",
    "fig1, ax1 = plt.subplots()\n",
    "fig1.set_size_inches(5,5)\n",
    "ax1.pie([len(tourney), len(stickers)-len(tourney)], labels = [\"Tournament\", \"Non-Tournament\"], autopct = \"%1.1F%%\", startangle = 90)\n",
    "ax1.axis(\"equal\")\n",
    "\n",
    "# plt.savefig(\"graphs/sticktourney.png\", bbox_inches = \"tight\")"
   ]
  },
  {
   "cell_type": "code",
   "execution_count": null,
   "metadata": {},
   "outputs": [],
   "source": [
    "# dataframes of price and volume for easier analysis\n",
    "stick_price = stickers.loc[:, idx[:, \"Price\"]]\n",
    "tourney_price = tourney.loc[:, idx[:, \"Price\"]]\n",
    "stick_vol = stickers.loc[:, idx[:, \"Volume\"]]\n",
    "tourney_vol = tourney.loc[:, idx[:, \"Volume\"]]\n",
    "\n",
    "for x in (stick_price, tourney_price, stick_vol, tourney_vol):\n",
    "    x.columns = x.columns.droplevel(1)\n",
    "    x.columns = pd.to_datetime(x.columns)"
   ]
  },
  {
   "cell_type": "code",
   "execution_count": null,
   "metadata": {},
   "outputs": [],
   "source": [
    "# avg sticker market price\n",
    "stick_price.mean(axis = 1).mean()"
   ]
  },
  {
   "cell_type": "code",
   "execution_count": null,
   "metadata": {},
   "outputs": [],
   "source": [
    "stick_vol.mean(axis = 1).mean()"
   ]
  },
  {
   "cell_type": "code",
   "execution_count": null,
   "metadata": {},
   "outputs": [],
   "source": [
    "# VWAP of stickers\n",
    "np.nansum((stick_price.mul(stick_vol)).values)/ np.nansum(stick_vol.values)"
   ]
  },
  {
   "cell_type": "code",
   "execution_count": null,
   "metadata": {},
   "outputs": [],
   "source": [
    "# dataframe with all stickers starting from 0 days since release\n",
    "stick_appreciation = stick_price.apply(lambda x: pd.Series(x.loc[x.first_valid_index():].values), axis = 1)"
   ]
  },
  {
   "cell_type": "code",
   "execution_count": null,
   "metadata": {},
   "outputs": [],
   "source": [
    "# graphing appreciation of stickers\n",
    "m = ((stick_appreciation.div(stick_appreciation[0], axis = 0))*100).apply(lambda row: lin_reg(row), axis = 1)\n",
    "plt.figure(figsize = (7, 7))\n",
    "plt.xlabel(\"Slope of Price as Percentage of Release Price (%)\", size = 15)\n",
    "plt.ylabel(\"Number of Items\", size =15)\n",
    "plt.title(\"Distribution of Slope of Price as Percentage of Release Price\", size = 20)\n",
    "plt.annotate(text = \"mean: {}\\nmedian: {}\".format(round(m.mean(), 2), round(m.median(), 2)) ,xy = (.5, 200))\n",
    "plt.axvline(0, color = \"black\")\n",
    "plt.hist(m, bins = 1000)\n",
    "plt.xlim(-1, 1)\n",
    "\n",
    "# plt.savefig(\"graphs/stickappslope.png\")"
   ]
  },
  {
   "cell_type": "code",
   "execution_count": null,
   "metadata": {},
   "outputs": [],
   "source": [
    "# amount of stickers with positive slope\n",
    "len(m.where(m > 0).dropna())/len(m)"
   ]
  },
  {
   "cell_type": "code",
   "execution_count": null,
   "metadata": {},
   "outputs": [],
   "source": [
    "sticker_data = stickers.loc[:,[\"Weapon\", \"Collection\", \"Quality\", \"Skin\", \"Condition\", \"StatTrak\", \"Souvenir\"]]\n",
    "\n",
    "sticker_data.columns = sticker_data.columns.droplevel(1) #dropping the second level created for the multiindex"
   ]
  },
  {
   "cell_type": "code",
   "execution_count": null,
   "metadata": {},
   "outputs": [],
   "source": [
    "sticker_data[\"Slope\"] = m"
   ]
  },
  {
   "cell_type": "code",
   "execution_count": null,
   "metadata": {},
   "outputs": [],
   "source": [
    "# splitting up stickers by collection to see average slope of each\n",
    "collections = pd.Series()\n",
    "for name, group in sticker_data.groupby(by = \"Collection\", axis = 0):\n",
    "    collections.at[name] = float(group[\"Slope\"].mean())\n",
    "\n",
    "collections = collections.sort_values(ascending = False)\n",
    "collections"
   ]
  },
  {
   "cell_type": "markdown",
   "metadata": {},
   "source": [
    "# Cases"
   ]
  },
  {
   "cell_type": "code",
   "execution_count": null,
   "metadata": {},
   "outputs": [],
   "source": [
    "# dataframes for easier analysis\n",
    "cases = others[others[\"Weapon\", \"Unnamed: 1_level_1\"] == \"Skin Cases\"]\n",
    "case_price = cases.loc[:, idx[:, \"Price\"]]\n",
    "case_vol = cases.loc[:, idx[:, \"Volume\"]]"
   ]
  },
  {
   "cell_type": "code",
   "execution_count": null,
   "metadata": {},
   "outputs": [],
   "source": [
    "case_price.mean(axis = 1).std()"
   ]
  },
  {
   "cell_type": "code",
   "execution_count": null,
   "metadata": {},
   "outputs": [],
   "source": [
    "case_vol.mean(axis = 1)"
   ]
  },
  {
   "cell_type": "code",
   "execution_count": null,
   "metadata": {},
   "outputs": [],
   "source": [
    "# graphing case price over time\n",
    "case_appreciation_vol = case_vol.apply(lambda x: pd.Series(x.loc[x.first_valid_index():].values), axis = 1) # calculating case by indexing from 0 days since release\n",
    "plt.figure(figsize = (20,7))\n",
    "plt.xlabel(\"Days since Release (days)\", size = 15)\n",
    "plt.ylabel(\"Avg Volume Sold ($)\", size = 15)\n",
    "plt.title(\"Average Volume of Cases Sold after Release\", size = 20)\n",
    "plt.plot(case_appreciation_vol.mean().rolling(window=20).mean())\n",
    "plt.plot(case_appreciation_vol.mean(), alpha = .5, color = \"lightblue\")\n",
    "plt.margins(0)\n",
    "\n",
    "# plt.savefig(\"graphs/volumecases.png\")"
   ]
  },
  {
   "cell_type": "code",
   "execution_count": null,
   "metadata": {},
   "outputs": [],
   "source": [
    "# prices index by time since release date\n",
    "case_appreciation_dates = case_price.apply(lambda x: pd.Series(x.loc[x.first_valid_index():].values), axis = 1)"
   ]
  },
  {
   "cell_type": "code",
   "execution_count": null,
   "metadata": {},
   "outputs": [],
   "source": [
    "# graphing price after release\n",
    "data = case_appreciation_dates.mean()\n",
    "plt.figure(figsize = (20,7))\n",
    "plt.margins(0)\n",
    "plt.xlabel(\"Days since Release (days)\", size = 15)\n",
    "plt.ylabel(\"Avg Price ($)\", size = 15)\n",
    "plt.title(\"Average Price of Cases after Release\", size = 20)\n",
    "plt.plot(data)\n",
    "\n",
    "y = case_appreciation_dates.dropna().mean().values\n",
    "x = case_appreciation_dates.columns.values\n",
    "\n",
    "# calculate exp regression\n",
    "def exp_line(x):\n",
    "    y = .329 * exp(.0013 * x)\n",
    "    return y\n",
    "new_y = []\n",
    "\n",
    "for i in range(0,2589):\n",
    "    new_y.append(exp_line(i))\n",
    "    \n",
    "plt.plot(x, new_y)\n",
    "plt.annotate(text = \"y = .329e^.0013x\" ,xy = (2000, 10))\n",
    "# plt.savefig(\"graphs/caseprice.png\")"
   ]
  },
  {
   "cell_type": "code",
   "execution_count": null,
   "metadata": {},
   "outputs": [],
   "source": [
    "# time it takes to go above release price\n",
    "data.where(data > 8.28399).dropna()"
   ]
  },
  {
   "cell_type": "code",
   "execution_count": null,
   "metadata": {},
   "outputs": [],
   "source": [
    "# calculating best possible day to buy in and hold\n",
    "price_min = case_appreciation_dates.idxmin(axis = 1)\n",
    "plt.figure(figsize = (7, 7))\n",
    "plt.margins(0)\n",
    "annotation = f\"mean: {round(price_min.mean())}\\nmedian: {round(price_min.median())} \\nmode: {round(price_min.mode()[0])}\"\n",
    "plt.annotate(text = annotation, xy = (300, .003))\n",
    "plt.xlabel(\"Days since Release (days)\", size = 15)\n",
    "plt.ylabel(\"Frequency of Skisn\", size = 15)\n",
    "plt.title(\"Distribution of When the Minimum Price Occurs\", size = 20)\n",
    "sns.kdeplot(price_min)\n",
    "\n",
    "# plt.savefig(\"graphs/casedistributionofminimum.png\")"
   ]
  }
 ],
 "metadata": {
  "kernelspec": {
   "display_name": "Python 3",
   "language": "python",
   "name": "python3"
  },
  "language_info": {
   "codemirror_mode": {
    "name": "ipython",
    "version": 3
   },
   "file_extension": ".py",
   "mimetype": "text/x-python",
   "name": "python",
   "nbconvert_exporter": "python",
   "pygments_lexer": "ipython3",
   "version": "3.8.5"
  }
 },
 "nbformat": 4,
 "nbformat_minor": 4
}
