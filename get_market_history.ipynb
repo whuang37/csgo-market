{
 "metadata": {
  "language_info": {
   "codemirror_mode": {
    "name": "ipython",
    "version": 3
   },
   "file_extension": ".py",
   "mimetype": "text/x-python",
   "name": "python",
   "nbconvert_exporter": "python",
   "pygments_lexer": "ipython3",
   "version": "3.8.5-final"
  },
  "orig_nbformat": 2,
  "kernelspec": {
   "name": "python_defaultSpec_1600241505886",
   "display_name": "Python 3.8.5 64-bit ('datascience': conda)"
  }
 },
 "nbformat": 4,
 "nbformat_minor": 2,
 "cells": [
  {
   "source": [
    "# Scraping Datasets of the Market History of all Counter Strike: Global Offensive Items\n",
    "\n",
    "This notebook includes all the code written to scrape market history from steam json requests. I am still exploring/learning web scraping so the code may not be the best as I tried to experiment with new methods and technologies. Steam has multiple naming irregularities as well as rate limiting that made some manual data cleaning necessary. If you want to rescrape all data, change the values in the third cell of this notebook. Total data scraping time (excluding coding time) was approximately 12 hours. \n",
    "\n",
    "Data is split up into multiple xlsx files to account for potential crashes or errors in data collection (there were many).\n"
   ],
   "cell_type": "markdown",
   "metadata": {}
  },
  {
   "cell_type": "code",
   "execution_count": 1,
   "metadata": {},
   "outputs": [],
   "source": [
    "import requests\n",
    "import json\n",
    "import pickle\n",
    "from datetime import datetime, date\n",
    "import time\n",
    "import random\n",
    "import pandas as pd\n",
    "import numpy as np\n",
    "import glob"
   ]
  },
  {
   "cell_type": "code",
   "execution_count": 17,
   "metadata": {},
   "outputs": [],
   "source": [
    "# Settings Cell\n",
    "appid = 730 #CSGO\n",
    "currency = 1 # USD\n",
    "country = \"US\"\n",
    "cookie = {\"steamLoginSecure\": \"PLACEHOLDER\"} # steamloginsecure cookie. Please enter in your owns for this to work properly\n",
    "\n",
    "FN = \"Factory New\"\n",
    "MW = \"Minimal Wear\"\n",
    "FT = \"Field-Tested\"\n",
    "WW = \"Well-Worn\"\n",
    "BS = \"Battle-Scarred\"\n",
    "\n",
    "starting_date = date(2013, 8, 1) # originally scraped from 8-1-2013 but upon data analysis found the first date of market sales is 8-13-2013\n",
    "ending_date = date(2020, 9, 14)"
   ]
  },
  {
   "cell_type": "code",
   "execution_count": 18,
   "metadata": {},
   "outputs": [],
   "source": [
    "# Creates a list of dates in the date range for comparison to data pulled from the market later\n",
    "dates_list = pd.date_range(start = starting_date, end = ending_date)"
   ]
  },
  {
   "source": [
    "## get_history\n",
    "\n",
    "get_history() is the primary function used to pull data from the Steam server using a json get request with the item name and symbols formatted to ASCII. Steam servers will return a status indicating whether the request was successful and a list of prices and the volume sold for each particular date. If a date sold nothing, there is no entry and the list simply skips that date. In order to combat this we use date_list, a list of every date in between our given range. Each date in the date list is compared to the date given in the steam data. If the steam data date does not match, we append a None, None to the price/volume list and increase the date_list index up again until the data has another value. \n",
    "\n",
    "This function underwent multiple revisions. Other possible variants include checking the difference between the current date and the previous date and appending Nones based on that value.\n",
    "\n",
    "Steam also gives hourly? (unsure if hourly but seems so) price data for more recent dates. This means a date can appear multiple times. In order to address this, data with the same date as the previous data entry is aggregated together (price is averaged and volume is summed).  "
   ],
   "cell_type": "markdown",
   "metadata": {}
  },
  {
   "cell_type": "code",
   "execution_count": 13,
   "metadata": {},
   "outputs": [],
   "source": [
    "def get_history(name):\n",
    "    url = \"http://steamcommunity.com/market/pricehistory/?country={0}&currency={1}&appid={2}&market_hash_name={3}\".format(country, currency, appid, name)\n",
    "\n",
    "    for x in range(3): # occasionally will hit connection errors\n",
    "        try:\n",
    "            item = requests.get(url, cookies = cookie)\n",
    "        except Exception as e:\n",
    "            print(e)\n",
    "            if x == 2:\n",
    "                return 1\n",
    "            else:\n",
    "                time.sleep(60) # waits 60 seconds to allow steam to refresh\n",
    "                continue\n",
    "        else:\n",
    "            break\n",
    "\n",
    "    item = item.content\n",
    "    item = json.loads(item)\n",
    "\n",
    "    if item: # checks if returned anything\n",
    "        item_prices = item[\"prices\"] \n",
    "        success = item[\"success\"]\n",
    "        if (item_prices == False) | (not item_prices) | (success == False):\n",
    "            return 1\n",
    "        else:\n",
    "            print(\"{0} CURRENTLY SCRAPING ITEM: {1}, NUMBER {2} OF {3} ITEMS\".format(datetime.now(), name, current_num, total_items)) # status check\n",
    "            pricevol = [] # price and volume are combined for multiindexing in the dataframe later\n",
    "            dates = [] # used to check whether dates repeat\n",
    "            item_counter = 0 \n",
    "            date_counter = -1\n",
    "\n",
    "            while (date_counter < len(dates_list) - 1) & (item_counter < len(item_prices)):\n",
    "                date_counter += 1\n",
    "                current_date = datetime.strptime(item_prices[item_counter][0][0:11], \"%b %d %Y\").date()\n",
    "                if (current_date == dates_list[date_counter - 1]): # some entries have multiple entries per day\n",
    "                    pricevol[-2] = np.mean([item_prices[item_counter][1], pricevol[-2]]) # averages the prices in the day and rewrites the previously written one\n",
    "                    pricevol[-1] = int(item_prices[item_counter][2]) + pricevol[-1] # adds the volumes for the day together\n",
    "                    date_counter -= 1\n",
    "                    item_counter += 1\n",
    "                elif dates_list[date_counter] != current_date:\n",
    "                    pricevol.extend((None, None))\n",
    "                else:\n",
    "                    pricevol.append(item_prices[item_counter][1]) # appending price\n",
    "                    pricevol.append(int(item_prices[item_counter][2])) # appending volume\n",
    "                    dates.append(current_date) # appending the date into a list\n",
    "                    item_counter += 1\n",
    "        \n",
    "            if current_date != ending_date: # adds extra nones to end if the present has no sales\n",
    "                diff = ending_date - current_date\n",
    "                pricevol.extend([None for x in range(0, diff.days * 2)])\n",
    "    else:\n",
    "        print(\"No contents on {}\".format(name))\n",
    "        return 1\n",
    "    return pricevol"
   ]
  },
  {
   "source": [
    "## Weapon Skins Price History Collection\n",
    "\n",
    "Scraping weapon skins involves formatting the skin's name and iterating through all possible conditions, souvenir, and StatTrak variants.\n"
   ],
   "cell_type": "markdown",
   "metadata": {}
  },
  {
   "cell_type": "code",
   "execution_count": 66,
   "metadata": {},
   "outputs": [
    {
     "output_type": "execute_result",
     "data": {
      "text/plain": "             Weapon                Collection            Skin         Quality  \\\n0         CZ75-Auto    The Baggage Collection     Green Plaid  Consumer Grade   \n1         CZ75-Auto  The Chop Shop Collection      Army Sheen  Consumer Grade   \n2         CZ75-Auto     The Canals Collection          Indigo  Consumer Grade   \n3         CZ75-Auto       The Bank Collection          Tuxedo        Mil-Spec   \n4         CZ75-Auto   The Overpass Collection           Nitro        Mil-Spec   \n...             ...                       ...             ...             ...   \n1293     Hand Wraps               Clutch Case   Cobalt Skulls   Extraordinary   \n1294  Driver Gloves               Clutch Case    Racing Green   Extraordinary   \n1295  Driver Gloves               Clutch Case        Overtake   Extraordinary   \n1296  Driver Gloves               Clutch Case  Imperial Plaid   Extraordinary   \n1297  Driver Gloves               Clutch Case      King Snake   Extraordinary   \n\n      StatTrak  Souvenir  \n0        False     False  \n1        False     False  \n2        False     False  \n3        False     False  \n4        False      True  \n...        ...       ...  \n1293     False     False  \n1294     False     False  \n1295     False     False  \n1296     False     False  \n1297     False     False  \n\n[1298 rows x 6 columns]",
      "text/html": "<div>\n<style scoped>\n    .dataframe tbody tr th:only-of-type {\n        vertical-align: middle;\n    }\n\n    .dataframe tbody tr th {\n        vertical-align: top;\n    }\n\n    .dataframe thead th {\n        text-align: right;\n    }\n</style>\n<table border=\"1\" class=\"dataframe\">\n  <thead>\n    <tr style=\"text-align: right;\">\n      <th></th>\n      <th>Weapon</th>\n      <th>Collection</th>\n      <th>Skin</th>\n      <th>Quality</th>\n      <th>StatTrak</th>\n      <th>Souvenir</th>\n    </tr>\n  </thead>\n  <tbody>\n    <tr>\n      <th>0</th>\n      <td>CZ75-Auto</td>\n      <td>The Baggage Collection</td>\n      <td>Green Plaid</td>\n      <td>Consumer Grade</td>\n      <td>False</td>\n      <td>False</td>\n    </tr>\n    <tr>\n      <th>1</th>\n      <td>CZ75-Auto</td>\n      <td>The Chop Shop Collection</td>\n      <td>Army Sheen</td>\n      <td>Consumer Grade</td>\n      <td>False</td>\n      <td>False</td>\n    </tr>\n    <tr>\n      <th>2</th>\n      <td>CZ75-Auto</td>\n      <td>The Canals Collection</td>\n      <td>Indigo</td>\n      <td>Consumer Grade</td>\n      <td>False</td>\n      <td>False</td>\n    </tr>\n    <tr>\n      <th>3</th>\n      <td>CZ75-Auto</td>\n      <td>The Bank Collection</td>\n      <td>Tuxedo</td>\n      <td>Mil-Spec</td>\n      <td>False</td>\n      <td>False</td>\n    </tr>\n    <tr>\n      <th>4</th>\n      <td>CZ75-Auto</td>\n      <td>The Overpass Collection</td>\n      <td>Nitro</td>\n      <td>Mil-Spec</td>\n      <td>False</td>\n      <td>True</td>\n    </tr>\n    <tr>\n      <th>...</th>\n      <td>...</td>\n      <td>...</td>\n      <td>...</td>\n      <td>...</td>\n      <td>...</td>\n      <td>...</td>\n    </tr>\n    <tr>\n      <th>1293</th>\n      <td>Hand Wraps</td>\n      <td>Clutch Case</td>\n      <td>Cobalt Skulls</td>\n      <td>Extraordinary</td>\n      <td>False</td>\n      <td>False</td>\n    </tr>\n    <tr>\n      <th>1294</th>\n      <td>Driver Gloves</td>\n      <td>Clutch Case</td>\n      <td>Racing Green</td>\n      <td>Extraordinary</td>\n      <td>False</td>\n      <td>False</td>\n    </tr>\n    <tr>\n      <th>1295</th>\n      <td>Driver Gloves</td>\n      <td>Clutch Case</td>\n      <td>Overtake</td>\n      <td>Extraordinary</td>\n      <td>False</td>\n      <td>False</td>\n    </tr>\n    <tr>\n      <th>1296</th>\n      <td>Driver Gloves</td>\n      <td>Clutch Case</td>\n      <td>Imperial Plaid</td>\n      <td>Extraordinary</td>\n      <td>False</td>\n      <td>False</td>\n    </tr>\n    <tr>\n      <th>1297</th>\n      <td>Driver Gloves</td>\n      <td>Clutch Case</td>\n      <td>King Snake</td>\n      <td>Extraordinary</td>\n      <td>False</td>\n      <td>False</td>\n    </tr>\n  </tbody>\n</table>\n<p>1298 rows × 6 columns</p>\n</div>"
     },
     "metadata": {},
     "execution_count": 66
    }
   ],
   "source": [
    "all_skins = pd.read_excel(\"items_list/skins_list.xlsx\")\n",
    "\n",
    "knives = pd.read_excel(\"items_list/knivesgloves_list.xlsx\")\n",
    "all_skins = all_skins.append(knives, ignore_index = True)\n",
    "\n",
    "all_skins"
   ]
  },
  {
   "cell_type": "code",
   "execution_count": 68,
   "metadata": {},
   "outputs": [],
   "source": [
    "def make_hash_name(weapon, skin, condition, st, sv):\n",
    "    if skin == \"★ (Vanilla)\":\n",
    "        name = \"{0}\".format(weapon) # vanilla knives have no condition or skin name\n",
    "    else:\n",
    "        name = \"{0} | {1} ({2})\".format(weapon, skin, condition)\n",
    "        \n",
    "    if st == True:\n",
    "        name = \"StatTrak™ \" + name\n",
    "    elif sv == True: \n",
    "        name = \"Souvenir \" + name\n",
    "        \n",
    "    if (\"Knife\" in weapon) | (\"Gloves\" in weapon): # knives and gloves have a star before their name\n",
    "        name = \"★ \" + name\n",
    "        \n",
    "    formatted_name = name.replace(\" \", \"%20\") \n",
    "    formatted_name = formatted_name.replace(\"&\", \"%26\")\n",
    "    formatted_name = formatted_name.replace(\"|\", \"%7C\")\n",
    "    formatted_name = formatted_name.replace(\"+\", \"%2B\")\n",
    "    formatted_name = formatted_name.replace(\":\", \"%3A\")\n",
    "    formatted_name = formatted_name.replace(\"/\", \"%2F\")\n",
    "    formatted_name = formatted_name.replace(\"(\", \"%28\")\n",
    "    formatted_name = formatted_name.replace(\")\", \"%29\")\n",
    "\n",
    "    return formatted_name"
   ]
  },
  {
   "cell_type": "code",
   "execution_count": 69,
   "metadata": {
    "tags": []
   },
   "outputs": [
    {
     "output_type": "error",
     "ename": "KeyboardInterrupt",
     "evalue": "",
     "traceback": [
      "\u001b[1;31m---------------------------------------------------------------------------\u001b[0m",
      "\u001b[1;31mKeyboardInterrupt\u001b[0m                         Traceback (most recent call last)",
      "\u001b[1;32m<ipython-input-69-d3f9c88fe7d5>\u001b[0m in \u001b[0;36m<module>\u001b[1;34m\u001b[0m\n\u001b[0;32m     17\u001b[0m             \u001b[0mpossible_conditions\u001b[0m \u001b[1;33m=\u001b[0m \u001b[1;33m(\u001b[0m\u001b[0mBS\u001b[0m\u001b[1;33m,\u001b[0m \u001b[0mWW\u001b[0m\u001b[1;33m,\u001b[0m \u001b[0mFT\u001b[0m \u001b[1;33m,\u001b[0m \u001b[0mMW\u001b[0m \u001b[1;33m,\u001b[0m \u001b[0mFN\u001b[0m\u001b[1;33m)\u001b[0m\u001b[1;33m\u001b[0m\u001b[1;33m\u001b[0m\u001b[0m\n\u001b[0;32m     18\u001b[0m         \u001b[1;32mfor\u001b[0m \u001b[0mcondition\u001b[0m \u001b[1;32min\u001b[0m \u001b[0mpossible_conditions\u001b[0m\u001b[1;33m:\u001b[0m \u001b[1;31m# iterates through all possible conditions\u001b[0m\u001b[1;33m\u001b[0m\u001b[1;33m\u001b[0m\u001b[0m\n\u001b[1;32m---> 19\u001b[1;33m             \u001b[0mtime\u001b[0m\u001b[1;33m.\u001b[0m\u001b[0msleep\u001b[0m\u001b[1;33m(\u001b[0m\u001b[0mrandom\u001b[0m\u001b[1;33m.\u001b[0m\u001b[0muniform\u001b[0m\u001b[1;33m(\u001b[0m\u001b[1;36m.5\u001b[0m\u001b[1;33m,\u001b[0m \u001b[1;36m3\u001b[0m\u001b[1;33m)\u001b[0m\u001b[1;33m)\u001b[0m \u001b[1;31m# avoid steam rate limiting with a random sleep\u001b[0m\u001b[1;33m\u001b[0m\u001b[1;33m\u001b[0m\u001b[0m\n\u001b[0m\u001b[0;32m     20\u001b[0m             \u001b[0mname\u001b[0m \u001b[1;33m=\u001b[0m \u001b[0mmake_hash_name\u001b[0m\u001b[1;33m(\u001b[0m\u001b[0mrow\u001b[0m\u001b[1;33m[\u001b[0m\u001b[1;34m\"Weapon\"\u001b[0m\u001b[1;33m]\u001b[0m\u001b[1;33m,\u001b[0m \u001b[0mrow\u001b[0m\u001b[1;33m[\u001b[0m\u001b[1;34m\"Skin\"\u001b[0m\u001b[1;33m]\u001b[0m\u001b[1;33m,\u001b[0m \u001b[0mcondition\u001b[0m\u001b[1;33m,\u001b[0m \u001b[0mst\u001b[0m\u001b[1;33m,\u001b[0m \u001b[0msv\u001b[0m\u001b[1;33m)\u001b[0m\u001b[1;33m\u001b[0m\u001b[1;33m\u001b[0m\u001b[0m\n\u001b[0;32m     21\u001b[0m             \u001b[0mprice_vol_history\u001b[0m \u001b[1;33m=\u001b[0m \u001b[0mget_history\u001b[0m\u001b[1;33m(\u001b[0m\u001b[0mname\u001b[0m\u001b[1;33m)\u001b[0m\u001b[1;33m\u001b[0m\u001b[1;33m\u001b[0m\u001b[0m\n",
      "\u001b[1;31mKeyboardInterrupt\u001b[0m: "
     ]
    }
   ],
   "source": [
    "skin_history = {}\n",
    "i = 0\n",
    "current_num = 0\n",
    "total_items = len(all_skins.index)\n",
    "\n",
    "for index, row in all_skins.iterrows():\n",
    "    current_num += 1\n",
    "    # checks whether to reiterate for stattrak and souvenir\n",
    "    if (row[\"StatTrak\"] == True) | (row[\"Souvenir\"] == True):\n",
    "        svst = ((False, False), (row[\"StatTrak\"], row[\"Souvenir\"]))\n",
    "    else:\n",
    "        svst = ((False, False),)\n",
    "    for st, sv in svst:\n",
    "        if row[\"Skin\"] == \"★ (Vanilla)\":\n",
    "            possible_conditions = (None,)\n",
    "        else:\n",
    "            possible_conditions = (BS, WW, FT , MW , FN)\n",
    "        for condition in possible_conditions: # iterates through all possible conditions\n",
    "            time.sleep(random.uniform(.5, 3)) # avoid steam rate limiting with a random sleep\n",
    "            name = make_hash_name(row[\"Weapon\"], row[\"Skin\"], condition, st, sv)\n",
    "            price_vol_history = get_history(name)\n",
    "            if price_vol_history == 1:\n",
    "                print(\"{0} HAS FAILED\".format(name))\n",
    "                continue\n",
    "            col_index = \"col_\" + str(i)\n",
    "            skin_history[col_index] = [row[\"Weapon\"], row[\"Collection\"], row[\"Quality\"], row[\"Skin\"], condition, st, sv] + price_vol_history\n",
    "            i += 1\n",
    "    if current_num % 100 == 0: # saves the data to csv every 100 items to protect against crashes\n",
    "        print(\"made a new file!\")\n",
    "        skins_prices = pd.DataFrame.from_dict(skin_history, orient = \"index\")\n",
    "        skins_prices.to_excel(\"skins_query/skins{}.xlsx\".format(current_num / 100))\n",
    "        skin_history.clear()\n",
    "\n",
    "if skins_price != {}:\n",
    "    print(\"finished!\")\n",
    "    skins_prices = pd.DataFrame.from_dict(skin_history, orient = \"index\")\n",
    "    skins_prices.to_excel(\"skins_query/skins_final.xlsx\")"
   ]
  },
  {
   "source": [
    "## Stickers Price History Collection\n",
    "\n",
    "Sticker history collection works a bit different from skins. Sticker names have many variants depending on the collection or lack thereof. "
   ],
   "cell_type": "markdown",
   "metadata": {}
  },
  {
   "cell_type": "code",
   "execution_count": 27,
   "metadata": {},
   "outputs": [
    {
     "output_type": "execute_result",
     "data": {
      "text/plain": "       Weapon                        Collection                  Skin  \\\n0     Sticker                      Atlanta 2017                   RpK   \n1     Sticker                      Atlanta 2017               ELEAGUE   \n2     Sticker                      Atlanta 2017               SmithZz   \n3     Sticker                      Atlanta 2017                   TaZ   \n4     Sticker                      Atlanta 2017                 byali   \n...       ...                               ...                   ...   \n3596  Sticker  Warhammer 40,000 Sticker Capsule         Heresy (Holo)   \n3597  Sticker  Warhammer 40,000 Sticker Capsule  Bloodthirster (Foil)   \n3598  Sticker  Warhammer 40,000 Sticker Capsule   Chaos Marine (Foil)   \n3599  Sticker  Warhammer 40,000 Sticker Capsule        Emperor (Foil)   \n3600  Sticker                               NaN          Howling Dawn   \n\n         Quality  \n0     High Grade  \n1     High Grade  \n2     High Grade  \n3     High Grade  \n4     High Grade  \n...          ...  \n3596  Remarkable  \n3597      Exotic  \n3598      Exotic  \n3599      Exotic  \n3600  Contraband  \n\n[3601 rows x 4 columns]",
      "text/html": "<div>\n<style scoped>\n    .dataframe tbody tr th:only-of-type {\n        vertical-align: middle;\n    }\n\n    .dataframe tbody tr th {\n        vertical-align: top;\n    }\n\n    .dataframe thead th {\n        text-align: right;\n    }\n</style>\n<table border=\"1\" class=\"dataframe\">\n  <thead>\n    <tr style=\"text-align: right;\">\n      <th></th>\n      <th>Weapon</th>\n      <th>Collection</th>\n      <th>Skin</th>\n      <th>Quality</th>\n    </tr>\n  </thead>\n  <tbody>\n    <tr>\n      <th>0</th>\n      <td>Sticker</td>\n      <td>Atlanta 2017</td>\n      <td>RpK</td>\n      <td>High Grade</td>\n    </tr>\n    <tr>\n      <th>1</th>\n      <td>Sticker</td>\n      <td>Atlanta 2017</td>\n      <td>ELEAGUE</td>\n      <td>High Grade</td>\n    </tr>\n    <tr>\n      <th>2</th>\n      <td>Sticker</td>\n      <td>Atlanta 2017</td>\n      <td>SmithZz</td>\n      <td>High Grade</td>\n    </tr>\n    <tr>\n      <th>3</th>\n      <td>Sticker</td>\n      <td>Atlanta 2017</td>\n      <td>TaZ</td>\n      <td>High Grade</td>\n    </tr>\n    <tr>\n      <th>4</th>\n      <td>Sticker</td>\n      <td>Atlanta 2017</td>\n      <td>byali</td>\n      <td>High Grade</td>\n    </tr>\n    <tr>\n      <th>...</th>\n      <td>...</td>\n      <td>...</td>\n      <td>...</td>\n      <td>...</td>\n    </tr>\n    <tr>\n      <th>3596</th>\n      <td>Sticker</td>\n      <td>Warhammer 40,000 Sticker Capsule</td>\n      <td>Heresy (Holo)</td>\n      <td>Remarkable</td>\n    </tr>\n    <tr>\n      <th>3597</th>\n      <td>Sticker</td>\n      <td>Warhammer 40,000 Sticker Capsule</td>\n      <td>Bloodthirster (Foil)</td>\n      <td>Exotic</td>\n    </tr>\n    <tr>\n      <th>3598</th>\n      <td>Sticker</td>\n      <td>Warhammer 40,000 Sticker Capsule</td>\n      <td>Chaos Marine (Foil)</td>\n      <td>Exotic</td>\n    </tr>\n    <tr>\n      <th>3599</th>\n      <td>Sticker</td>\n      <td>Warhammer 40,000 Sticker Capsule</td>\n      <td>Emperor (Foil)</td>\n      <td>Exotic</td>\n    </tr>\n    <tr>\n      <th>3600</th>\n      <td>Sticker</td>\n      <td>NaN</td>\n      <td>Howling Dawn</td>\n      <td>Contraband</td>\n    </tr>\n  </tbody>\n</table>\n<p>3601 rows × 4 columns</p>\n</div>"
     },
     "metadata": {},
     "execution_count": 27
    }
   ],
   "source": [
    "all_stickers = pd.read_excel(\"items_list/stickers_list.xlsx\")\n",
    "\n",
    "all_stickers"
   ]
  },
  {
   "cell_type": "code",
   "execution_count": 4,
   "metadata": {},
   "outputs": [],
   "source": [
    "def make_sticker_hash(collection, skin):\n",
    "    if collection == None:\n",
    "        name = \"Sticker | {0}\".format(skin)\n",
    "    elif \"201\" in collection & (\"community\", \"winter\") not in collection: # if there is a year in the name and is tourney capsule\n",
    "        name = \"Sticker | {0} | {1}\".format(skin, collection)\n",
    "    else:\n",
    "        name = \"Sticker | {0}\".format(skin)\n",
    "\n",
    "    formatted_name = name.replace(\" \", \"%20\") \n",
    "    formatted_name = formatted_name.replace(\"&\", \"%26\")\n",
    "    formatted_name = formatted_name.replace(\"|\", \"%7C\")\n",
    "    formatted_name = formatted_name.replace(\"+\", \"%2B\")\n",
    "    formatted_name = formatted_name.replace(\":\", \"%3A\")\n",
    "    formatted_name = formatted_name.replace(\"/\", \"%2F\")\n",
    "    formatted_name = formatted_name.replace(\"(\", \"%28\")\n",
    "    formatted_name = formatted_name.replace(\")\", \"%29\")\n",
    "\n",
    "    return formatted_name"
   ]
  },
  {
   "cell_type": "code",
   "execution_count": 30,
   "metadata": {
    "tags": []
   },
   "outputs": [
    {
     "output_type": "stream",
     "name": "stdout",
     "text": "2020-09-15 21:37:08.778037 CURRENTLY SCRAPING ITEM: Sticker%20%7C%20Retake%20Expert, NUMBER 1 OF 23 ITEMS\n2020-09-15 21:37:12.371657 CURRENTLY SCRAPING ITEM: Sticker%20%7C%20Dessert%20Eagle, NUMBER 2 OF 23 ITEMS\n2020-09-15 21:37:15.242572 CURRENTLY SCRAPING ITEM: Sticker%20%7C%20Devouring%20Flame, NUMBER 3 OF 23 ITEMS\n2020-09-15 21:37:18.841021 CURRENTLY SCRAPING ITEM: Sticker%20%7C%20Entry%20Fragger, NUMBER 4 OF 23 ITEMS\n2020-09-15 21:37:22.136268 CURRENTLY SCRAPING ITEM: Sticker%20%7C%20Bullet%20Rain, NUMBER 5 OF 23 ITEMS\n2020-09-15 21:37:25.535727 CURRENTLY SCRAPING ITEM: Sticker%20%7C%20Camper, NUMBER 6 OF 23 ITEMS\n2020-09-15 21:37:29.643892 CURRENTLY SCRAPING ITEM: Sticker%20%7C%20Friendly%20Fire, NUMBER 7 OF 23 ITEMS\n2020-09-15 21:37:34.120177 CURRENTLY SCRAPING ITEM: Sticker%20%7C%20Small%20Arms, NUMBER 8 OF 23 ITEMS\n2020-09-15 21:37:36.368169 CURRENTLY SCRAPING ITEM: Sticker%20%7C%20Retake%20Expert%20%28Holo%29, NUMBER 9 OF 23 ITEMS\n2020-09-15 21:37:40.463310 CURRENTLY SCRAPING ITEM: Sticker%20%7C%20Friendly%20Fire%20%28Holo%29, NUMBER 10 OF 23 ITEMS\n2020-09-15 21:37:46.297688 CURRENTLY SCRAPING ITEM: Sticker%20%7C%20Small%20Arms%20%28Holo%29, NUMBER 11 OF 23 ITEMS\n2020-09-15 21:37:48.756928 CURRENTLY SCRAPING ITEM: Sticker%20%7C%20Devouring%20Flame%20%28Holo%29, NUMBER 12 OF 23 ITEMS\n2020-09-15 21:37:52.263723 CURRENTLY SCRAPING ITEM: Sticker%20%7C%20Camper%20%28Foil%29, NUMBER 13 OF 23 ITEMS\n2020-09-15 21:37:54.240760 CURRENTLY SCRAPING ITEM: Sticker%20%7C%20Bullet%20Rain%20%28Foil%29, NUMBER 14 OF 23 ITEMS\n2020-09-15 21:37:56.964172 CURRENTLY SCRAPING ITEM: Sticker%20%7C%20Queen%20Of%20Pain, NUMBER 15 OF 23 ITEMS\n2020-09-15 21:37:58.975099 CURRENTLY SCRAPING ITEM: Sticker%20%7C%20Zombie%20Lover, NUMBER 16 OF 23 ITEMS\n2020-09-15 21:38:02.469498 CURRENTLY SCRAPING ITEM: Sticker%20%7C%20Doomed, NUMBER 17 OF 23 ITEMS\n2020-09-15 21:38:05.425333 CURRENTLY SCRAPING ITEM: Sticker%20%7C%20Trick%20Or%20Treat, NUMBER 18 OF 23 ITEMS\n2020-09-15 21:38:07.691555 CURRENTLY SCRAPING ITEM: Sticker%20%7C%20Witch, NUMBER 19 OF 23 ITEMS\n2020-09-15 21:38:12.875863 CURRENTLY SCRAPING ITEM: Sticker%20%7C%20Trick%20Or%20Threat, NUMBER 20 OF 23 ITEMS\n2020-09-15 21:38:15.973347 CURRENTLY SCRAPING ITEM: Sticker%20%7C%20DreamHack%20Winter%202014, NUMBER 21 OF 23 ITEMS\n2020-09-15 21:38:19.710305 CURRENTLY SCRAPING ITEM: Sticker%20%7C%20DreamHack%20Winter%202014%20%28Foil%29, NUMBER 22 OF 23 ITEMS\n2020-09-15 21:38:23.556477 CURRENTLY SCRAPING ITEM: Sticker%20%7C%20Howling%20Dawn, NUMBER 23 OF 23 ITEMS\n"
    }
   ],
   "source": [
    "sticker_history = {}\n",
    "i = 0\n",
    "current_num = 0\n",
    "total_items = len(all_stickers.index)\n",
    "\n",
    "for index, row in all_stickers.iterrows():\n",
    "    current_num += 1\n",
    "    time.sleep(random.uniform(.5, 3)) # avoid steam rate limiting with a random sleep\n",
    "    name = make_sticker_hash(row[\"Collection\"], row[\"Skin\"])\n",
    "    price_vol_history = get_history(name)\n",
    "    if price_vol_history == 1:\n",
    "        print(\"{0} HAS FAILED\".format(name))\n",
    "        continue\n",
    "    col_index = \"col_\" + str(i)\n",
    "    sticker_history[col_index] = [\"Sticker\", row[\"Collection\"], row[\"Quality\"], row[\"Skin\"], None, None, None] + price_vol_history\n",
    "    i += 1\n",
    "    if current_num % 300 == 0: # saves the data to csv every 100 items to protect against crashes\n",
    "        print(\"made a new file!\")\n",
    "        skins_prices = pd.DataFrame.from_dict(sticker_history, orient = \"index\")\n",
    "        skins_prices.to_excel(\"stickers_query/stickers{}.xlsx\".format(current_num / 300))\n",
    "        sticker_history.clear()\n",
    "\n",
    "if sticker_history != {}:\n",
    "    print(\"finished!\")\n",
    "    skins_prices = pd.DataFrame.from_dict(sticker_history, orient = \"index\")\n",
    "    skins_prices.to_excel(\"stickers_query/stickers_final.xlsx\")"
   ]
  },
  {
   "source": [
    "## Cases Price History Collection\n",
    "\n",
    "Cases work with a simple query. Very little changes to name needed."
   ],
   "cell_type": "markdown",
   "metadata": {}
  },
  {
   "cell_type": "code",
   "execution_count": 87,
   "metadata": {},
   "outputs": [
    {
     "output_type": "execute_result",
     "data": {
      "text/plain": "                    Weapon                         Collection  \\\n0               Patch Pack         Half-Life: Alyx Patch Pack   \n1               Patch Pack                   CS:GO Patch Pack   \n2            Music Kit Box          Masterminds Music Kit Box   \n3             Must Kit Box             StatTrak™ Radicals Box   \n4             Pins Capsule  Collectible Pins Capsule Series 1   \n..                     ...                                ...   \n295  \\nSouvenir Packages\\n              The Dust 2 Collection   \n296  \\nSouvenir Packages\\n            The Overpass Collection   \n297  \\nSouvenir Packages\\n               The Train Collection   \n298  \\nSouvenir Packages\\n           The 2018 Nuke Collection   \n299  \\nSouvenir Packages\\n             The Vertigo Collection   \n\n                                      Skin  \n0               Half-Life: Alyx Patch Pack  \n1                         CS:GO Patch Pack  \n2                Masterminds Music Kit Box  \n3                   StatTrak™ Radicals Box  \n4        Collectible Pins Capsule Series 1  \n..                                     ...  \n295   Berlin 2019 Dust II Souvenir Package  \n296  Berlin 2019 Overpass Souvenir Package  \n297     Berlin 2019 Train Souvenir Package  \n298      Berlin 2019 Nuke Souvenir Package  \n299   Berlin 2019 Vertigo Souvenir Package  \n\n[300 rows x 3 columns]",
      "text/html": "<div>\n<style scoped>\n    .dataframe tbody tr th:only-of-type {\n        vertical-align: middle;\n    }\n\n    .dataframe tbody tr th {\n        vertical-align: top;\n    }\n\n    .dataframe thead th {\n        text-align: right;\n    }\n</style>\n<table border=\"1\" class=\"dataframe\">\n  <thead>\n    <tr style=\"text-align: right;\">\n      <th></th>\n      <th>Weapon</th>\n      <th>Collection</th>\n      <th>Skin</th>\n    </tr>\n  </thead>\n  <tbody>\n    <tr>\n      <th>0</th>\n      <td>Patch Pack</td>\n      <td>Half-Life: Alyx Patch Pack</td>\n      <td>Half-Life: Alyx Patch Pack</td>\n    </tr>\n    <tr>\n      <th>1</th>\n      <td>Patch Pack</td>\n      <td>CS:GO Patch Pack</td>\n      <td>CS:GO Patch Pack</td>\n    </tr>\n    <tr>\n      <th>2</th>\n      <td>Music Kit Box</td>\n      <td>Masterminds Music Kit Box</td>\n      <td>Masterminds Music Kit Box</td>\n    </tr>\n    <tr>\n      <th>3</th>\n      <td>Must Kit Box</td>\n      <td>StatTrak™ Radicals Box</td>\n      <td>StatTrak™ Radicals Box</td>\n    </tr>\n    <tr>\n      <th>4</th>\n      <td>Pins Capsule</td>\n      <td>Collectible Pins Capsule Series 1</td>\n      <td>Collectible Pins Capsule Series 1</td>\n    </tr>\n    <tr>\n      <th>...</th>\n      <td>...</td>\n      <td>...</td>\n      <td>...</td>\n    </tr>\n    <tr>\n      <th>295</th>\n      <td>\\nSouvenir Packages\\n</td>\n      <td>The Dust 2 Collection</td>\n      <td>Berlin 2019 Dust II Souvenir Package</td>\n    </tr>\n    <tr>\n      <th>296</th>\n      <td>\\nSouvenir Packages\\n</td>\n      <td>The Overpass Collection</td>\n      <td>Berlin 2019 Overpass Souvenir Package</td>\n    </tr>\n    <tr>\n      <th>297</th>\n      <td>\\nSouvenir Packages\\n</td>\n      <td>The Train Collection</td>\n      <td>Berlin 2019 Train Souvenir Package</td>\n    </tr>\n    <tr>\n      <th>298</th>\n      <td>\\nSouvenir Packages\\n</td>\n      <td>The 2018 Nuke Collection</td>\n      <td>Berlin 2019 Nuke Souvenir Package</td>\n    </tr>\n    <tr>\n      <th>299</th>\n      <td>\\nSouvenir Packages\\n</td>\n      <td>The Vertigo Collection</td>\n      <td>Berlin 2019 Vertigo Souvenir Package</td>\n    </tr>\n  </tbody>\n</table>\n<p>300 rows × 3 columns</p>\n</div>"
     },
     "metadata": {},
     "execution_count": 87
    }
   ],
   "source": [
    "all_cases = pd.read_excel(\"items_list/cases_list.xlsx\")\n",
    "\n",
    "all_cases"
   ]
  },
  {
   "cell_type": "code",
   "execution_count": 88,
   "metadata": {},
   "outputs": [],
   "source": [
    "def make_case_hash(skin):\n",
    "    name = skin\n",
    "\n",
    "    formatted_name = name.replace(\" \", \"%20\") \n",
    "    formatted_name = formatted_name.replace(\"&\", \"%26\")\n",
    "    formatted_name = formatted_name.replace(\"|\", \"%7C\")\n",
    "    formatted_name = formatted_name.replace(\"+\", \"%2B\")\n",
    "    formatted_name = formatted_name.replace(\":\", \"%3A\")\n",
    "    formatted_name = formatted_name.replace(\"/\", \"-\")\n",
    "    formatted_name = formatted_name.replace(\"(\", \"%28\")\n",
    "    formatted_name = formatted_name.replace(\")\", \"%29\")\n",
    "\n",
    "    return formatted_name"
   ]
  },
  {
   "cell_type": "code",
   "execution_count": 89,
   "metadata": {
    "tags": []
   },
   "outputs": [
    {
     "output_type": "stream",
     "name": "stdout",
     "text": "2020-09-15 23:30:15.361245 CURRENTLY SCRAPING ITEM: Half-Life%3A%20Alyx%20Patch%20Pack, NUMBER 1 OF 300 ITEMS\n2020-09-15 23:30:19.081588 CURRENTLY SCRAPING ITEM: CS%3AGO%20Patch%20Pack, NUMBER 2 OF 300 ITEMS\n2020-09-15 23:30:22.783587 CURRENTLY SCRAPING ITEM: Masterminds%20Music%20Kit%20Box, NUMBER 3 OF 300 ITEMS\n2020-09-15 23:30:26.413773 CURRENTLY SCRAPING ITEM: StatTrak™%20Radicals%20Box, NUMBER 4 OF 300 ITEMS\n2020-09-15 23:30:28.783394 CURRENTLY SCRAPING ITEM: Collectible%20Pins%20Capsule%20Series%201, NUMBER 5 OF 300 ITEMS\n2020-09-15 23:30:33.500172 CURRENTLY SCRAPING ITEM: Collectible%20Pins%20Capsule%20Series%202, NUMBER 6 OF 300 ITEMS\n2020-09-15 23:30:38.084211 CURRENTLY SCRAPING ITEM: Collectible%20Pins%20Capsule%20Series%203, NUMBER 7 OF 300 ITEMS\n2020-09-15 23:30:40.215229 CURRENTLY SCRAPING ITEM: Half-Life%3A%20Alyx%20Collectible%20Pins%20Capsule, NUMBER 8 OF 300 ITEMS\n2020-09-15 23:30:41.844366 CURRENTLY SCRAPING ITEM: Community%20Graffiti%20Box%201, NUMBER 9 OF 300 ITEMS\n2020-09-15 23:30:47.807057 CURRENTLY SCRAPING ITEM: CS%3AGO%20Graffiti%20Box, NUMBER 10 OF 300 ITEMS\n2020-09-15 23:30:50.789224 CURRENTLY SCRAPING ITEM: Perfect%20World%20Graffiti%20Box, NUMBER 11 OF 300 ITEMS\n2020-09-15 23:30:52.937224 CURRENTLY SCRAPING ITEM: CS%3AGO%20Weapon%20Case, NUMBER 12 OF 300 ITEMS\n2020-09-15 23:30:54.788080 CURRENTLY SCRAPING ITEM: eSports%202013%20Case, NUMBER 13 OF 300 ITEMS\n2020-09-15 23:30:58.248589 CURRENTLY SCRAPING ITEM: Operation%20Bravo%20Case, NUMBER 14 OF 300 ITEMS\n2020-09-15 23:31:00.217982 CURRENTLY SCRAPING ITEM: CS%3AGO%20Weapon%20Case%202, NUMBER 15 OF 300 ITEMS\n2020-09-15 23:31:02.998556 CURRENTLY SCRAPING ITEM: eSports%202013%20Winter%20Case, NUMBER 16 OF 300 ITEMS\n2020-09-15 23:31:06.335764 CURRENTLY SCRAPING ITEM: Winter%20Offensive%20Weapon%20Case, NUMBER 17 OF 300 ITEMS\n2020-09-15 23:31:08.870231 CURRENTLY SCRAPING ITEM: CS%3AGO%20Weapon%20Case%203, NUMBER 18 OF 300 ITEMS\n2020-09-15 23:31:09.919863 CURRENTLY SCRAPING ITEM: Operation%20Phoenix%20Weapon%20Case, NUMBER 19 OF 300 ITEMS\n2020-09-15 23:31:11.804892 CURRENTLY SCRAPING ITEM: Huntsman%20Weapon%20Case, NUMBER 20 OF 300 ITEMS\n2020-09-15 23:31:15.307631 CURRENTLY SCRAPING ITEM: Operation%20Breakout%20Weapon%20Case, NUMBER 21 OF 300 ITEMS\n2020-09-15 23:31:20.399838 CURRENTLY SCRAPING ITEM: eSports%202014%20Summer%20Case, NUMBER 22 OF 300 ITEMS\n2020-09-15 23:31:22.033872 CURRENTLY SCRAPING ITEM: Operation%20Vanguard%20Weapon%20Case, NUMBER 23 OF 300 ITEMS\n2020-09-15 23:31:26.165314 CURRENTLY SCRAPING ITEM: Chroma%20Case, NUMBER 24 OF 300 ITEMS\n2020-09-15 23:31:29.448818 CURRENTLY SCRAPING ITEM: Chroma%202%20Case, NUMBER 25 OF 300 ITEMS\n2020-09-15 23:31:31.656510 CURRENTLY SCRAPING ITEM: Falchion%20Case, NUMBER 26 OF 300 ITEMS\n2020-09-15 23:31:35.388543 CURRENTLY SCRAPING ITEM: Shadow%20Case, NUMBER 27 OF 300 ITEMS\n2020-09-15 23:31:39.084364 CURRENTLY SCRAPING ITEM: Revolver%20Case, NUMBER 28 OF 300 ITEMS\n2020-09-15 23:31:41.382492 CURRENTLY SCRAPING ITEM: Operation%20Wildfire%20Case, NUMBER 29 OF 300 ITEMS\n2020-09-15 23:31:48.866583 CURRENTLY SCRAPING ITEM: Chroma%203%20Case, NUMBER 30 OF 300 ITEMS\n2020-09-15 23:31:52.814023 CURRENTLY SCRAPING ITEM: Gamma%20Case, NUMBER 31 OF 300 ITEMS\n2020-09-15 23:31:55.910876 CURRENTLY SCRAPING ITEM: Gamma%202%20Case, NUMBER 32 OF 300 ITEMS\n2020-09-15 23:31:57.522891 CURRENTLY SCRAPING ITEM: Glove%20Case, NUMBER 33 OF 300 ITEMS\n2020-09-15 23:31:59.493638 CURRENTLY SCRAPING ITEM: Spectrum%20Case, NUMBER 34 OF 300 ITEMS\n2020-09-15 23:32:01.846357 CURRENTLY SCRAPING ITEM: Operation%20Hydra%20Case, NUMBER 35 OF 300 ITEMS\n2020-09-15 23:32:03.423079 CURRENTLY SCRAPING ITEM: Spectrum%202%20Case, NUMBER 36 OF 300 ITEMS\n2020-09-15 23:32:07.212118 CURRENTLY SCRAPING ITEM: Clutch%20Case, NUMBER 37 OF 300 ITEMS\n2020-09-15 23:32:09.628215 CURRENTLY SCRAPING ITEM: Horizon%20Case, NUMBER 38 OF 300 ITEMS\n2020-09-15 23:32:12.557832 CURRENTLY SCRAPING ITEM: Danger%20Zone%20Case, NUMBER 39 OF 300 ITEMS\n2020-09-15 23:32:15.234052 CURRENTLY SCRAPING ITEM: Prisma%20Case, NUMBER 40 OF 300 ITEMS\n2020-09-15 23:32:16.374147 CURRENTLY SCRAPING ITEM: Shattered%20Web%20Case, NUMBER 41 OF 300 ITEMS\n2020-09-15 23:32:18.816999 CURRENTLY SCRAPING ITEM: X-Ray%20P250%20Package, NUMBER 42 OF 300 ITEMS\n2020-09-15 23:32:22.056713 CURRENTLY SCRAPING ITEM: CS20%20Case, NUMBER 43 OF 300 ITEMS\n2020-09-15 23:32:24.944456 CURRENTLY SCRAPING ITEM: Prisma%202%20Case, NUMBER 44 OF 300 ITEMS\n2020-09-15 23:32:29.641882 CURRENTLY SCRAPING ITEM: Fracture%20Case, NUMBER 45 OF 300 ITEMS\n2020-09-15 23:32:34.180236 CURRENTLY SCRAPING ITEM: Gift%20Package, NUMBER 46 OF 300 ITEMS\n2020-09-15 23:32:39.516169 CURRENTLY SCRAPING ITEM: Pallet%20of%20Presents, NUMBER 47 OF 300 ITEMS\n2020-09-15 23:32:42.109030 CURRENTLY SCRAPING ITEM: Audience%20Participation%20Parcel, NUMBER 48 OF 300 ITEMS\n2020-09-15 23:32:46.524886 CURRENTLY SCRAPING ITEM: Sticker%20Capsule, NUMBER 49 OF 300 ITEMS\n2020-09-15 23:32:49.360829 CURRENTLY SCRAPING ITEM: Sticker%20Capsule%202, NUMBER 50 OF 300 ITEMS\n2020-09-15 23:32:50.468091 CURRENTLY SCRAPING ITEM: EMS%20Katowice%202014%20Challengers, NUMBER 51 OF 300 ITEMS\n2020-09-15 23:32:52.224419 CURRENTLY SCRAPING ITEM: EMS%20Katowice%202014%20Legends, NUMBER 52 OF 300 ITEMS\n2020-09-15 23:32:55.068635 CURRENTLY SCRAPING ITEM: Community%20Sticker%20Capsule%201, NUMBER 53 OF 300 ITEMS\n2020-09-15 23:32:58.595623 CURRENTLY SCRAPING ITEM: ESL%20One%20Cologne%202014%20Legends, NUMBER 54 OF 300 ITEMS\n2020-09-15 23:33:01.378494 CURRENTLY SCRAPING ITEM: ESL%20One%20Cologne%202014%20Challengers, NUMBER 55 OF 300 ITEMS\n2020-09-15 23:33:04.198950 CURRENTLY SCRAPING ITEM: DreamHack%202014%20Legends%20%28Holo-Foil%29, NUMBER 56 OF 300 ITEMS\n2020-09-15 23:33:05.522093 CURRENTLY SCRAPING ITEM: ESL%20One%20Katowice%202015%20Legends%20%28Holo-Foil%29, NUMBER 57 OF 300 ITEMS\n2020-09-15 23:33:09.246127 CURRENTLY SCRAPING ITEM: ESL%20One%20Katowice%202015%20Challengers%20%28Holo-Foil%29, NUMBER 58 OF 300 ITEMS\n2020-09-15 23:33:11.609535 CURRENTLY SCRAPING ITEM: Enfu%20Sticker%20Capsule, NUMBER 59 OF 300 ITEMS\n2020-09-15 23:33:13.016376 CURRENTLY SCRAPING ITEM: ESL%20One%20Cologne%202015%20Legends%20%28Foil%29, NUMBER 60 OF 300 ITEMS\n2020-09-15 23:33:16.894988 CURRENTLY SCRAPING ITEM: ESL%20One%20Cologne%202015%20Challengers%20%28Foil%29, NUMBER 61 OF 300 ITEMS\n2020-09-15 23:33:19.275524 CURRENTLY SCRAPING ITEM: DreamHack%20Cluj-Napoca%202015%20Legends%20%28Foil%29, NUMBER 62 OF 300 ITEMS\n2020-09-15 23:33:22.389153 CURRENTLY SCRAPING ITEM: DreamHack%20Cluj-Napoca%202015%20Challengers%20%28Foil%29, NUMBER 63 OF 300 ITEMS\n2020-09-15 23:33:25.891678 CURRENTLY SCRAPING ITEM: Pinups%20Capsule, NUMBER 64 OF 300 ITEMS\n2020-09-15 23:33:28.965476 CURRENTLY SCRAPING ITEM: Slid3%20Capsule, NUMBER 65 OF 300 ITEMS\n2020-09-15 23:33:31.651250 CURRENTLY SCRAPING ITEM: Team%20Roles%20Capsule, NUMBER 66 OF 300 ITEMS\n2020-09-15 23:33:33.872079 CURRENTLY SCRAPING ITEM: MLG%20Columbus%202016%20Legends%20%28Holo-Foil%29, NUMBER 67 OF 300 ITEMS\n2020-09-15 23:33:36.482302 CURRENTLY SCRAPING ITEM: MLG%20Columbus%202016%20Challengers%20%28Holo-Foil%29, NUMBER 68 OF 300 ITEMS\n2020-09-15 23:33:38.729163 CURRENTLY SCRAPING ITEM: Cologne%202016%20Legends%20%28Holo-Foil%29, NUMBER 69 OF 300 ITEMS\n2020-09-15 23:33:42.474687 CURRENTLY SCRAPING ITEM: Cologne%202016%20Challengers%20%28Holo-Foil%29, NUMBER 70 OF 300 ITEMS\n2020-09-15 23:33:45.243182 CURRENTLY SCRAPING ITEM: Sugarface%20Capsule, NUMBER 71 OF 300 ITEMS\n2020-09-15 23:33:50.236308 CURRENTLY SCRAPING ITEM: Bestiary%20Capsule, NUMBER 72 OF 300 ITEMS\n2020-09-15 23:33:52.575146 CURRENTLY SCRAPING ITEM: Atlanta%202017%20Legends%20%28Holo-Foil%29, NUMBER 73 OF 300 ITEMS\n2020-09-15 23:33:56.543077 CURRENTLY SCRAPING ITEM: Atlanta%202017%20Challengers%20%28Holo-Foil%29, NUMBER 74 OF 300 ITEMS\n2020-09-15 23:33:58.829025 CURRENTLY SCRAPING ITEM: Krakow%202017%20Legends%20%28Holo-Foil%29, NUMBER 75 OF 300 ITEMS\n2020-09-15 23:34:02.283291 CURRENTLY SCRAPING ITEM: Krakow%202017%20Challengers%20%28Holo-Foil%29, NUMBER 76 OF 300 ITEMS\n2020-09-15 23:34:06.033609 CURRENTLY SCRAPING ITEM: Perfect%20World%20Sticker%20Capsule%201, NUMBER 77 OF 300 ITEMS\n2020-09-15 23:34:09.105824 CURRENTLY SCRAPING ITEM: Perfect%20World%20Sticker%20Capsule%202, NUMBER 78 OF 300 ITEMS\n2020-09-15 23:34:10.661462 CURRENTLY SCRAPING ITEM: Boston%202018%20Legends%20%28Holo-Foil%29, NUMBER 79 OF 300 ITEMS\n2020-09-15 23:34:14.283225 CURRENTLY SCRAPING ITEM: Boston%202018%20Returning%20Challengers%20%28Holo-Foil%29, NUMBER 80 OF 300 ITEMS\n2020-09-15 23:34:17.504978 CURRENTLY SCRAPING ITEM: Boston%202018%20Minor%20Challengers%20%28Holo-Foil%29, NUMBER 81 OF 300 ITEMS\n2020-09-15 23:34:19.415383 CURRENTLY SCRAPING ITEM: Community%20Capsule%202018, NUMBER 82 OF 300 ITEMS\n2020-09-15 23:34:22.271657 CURRENTLY SCRAPING ITEM: Boston%202018%20Minor%20Challengers%20with%20Flash%20Gaming%20%28Holo-Foil%29, NUMBER 83 OF 300 ITEMS\n2020-09-15 23:34:23.362226 CURRENTLY SCRAPING ITEM: Boston%202018%20Attending%20Legends%20%28Holo-Foil%29, NUMBER 84 OF 300 ITEMS\n2020-09-15 23:34:27.650999 CURRENTLY SCRAPING ITEM: London%202018%20Legends%20%28Holo-Foil%29, NUMBER 85 OF 300 ITEMS\n2020-09-15 23:34:31.314909 CURRENTLY SCRAPING ITEM: London%202018%20Returning%20Challengers%20%28Holo-Foil%29, NUMBER 86 OF 300 ITEMS\n2020-09-15 23:34:34.090938 CURRENTLY SCRAPING ITEM: London%202018%20Minor%20Challengers%20%28Holo-Foil%29, NUMBER 87 OF 300 ITEMS\n2020-09-15 23:34:37.576661 CURRENTLY SCRAPING ITEM: Skill%20Groups%20Capsule, NUMBER 88 OF 300 ITEMS\n2020-09-15 23:34:42.792111 CURRENTLY SCRAPING ITEM: Katowice%202019%20Legends%20%28Holo-Foil%29, NUMBER 89 OF 300 ITEMS\n2020-09-15 23:34:46.841104 CURRENTLY SCRAPING ITEM: Katowice%202019%20Returning%20Challengers%20%28Holo-Foil%29, NUMBER 90 OF 300 ITEMS\n2020-09-15 23:34:49.315097 CURRENTLY SCRAPING ITEM: Katowice%202019%20Minor%20Challengers%20%28Holo-Foil%29, NUMBER 91 OF 300 ITEMS\n2020-09-15 23:34:52.308438 CURRENTLY SCRAPING ITEM: Feral%20Predators%20Capsule, NUMBER 92 OF 300 ITEMS\n2020-09-15 23:34:55.619264 CURRENTLY SCRAPING ITEM: Chicken%20Capsule, NUMBER 93 OF 300 ITEMS\n2020-09-15 23:34:59.568127 CURRENTLY SCRAPING ITEM: Berlin%202019%20Legends%20%28Holo-Foil%29, NUMBER 94 OF 300 ITEMS\n2020-09-15 23:35:02.703185 CURRENTLY SCRAPING ITEM: Berlin%202019%20Returning%20Challengers%20%28Holo-Foil%29, NUMBER 95 OF 300 ITEMS\n2020-09-15 23:35:05.846201 CURRENTLY SCRAPING ITEM: Berlin%202019%20Minor%20Challengers%20%28Holo-Foil%29, NUMBER 96 OF 300 ITEMS\n2020-09-15 23:35:08.767729 CURRENTLY SCRAPING ITEM: CS20%20Sticker%20Capsule, NUMBER 97 OF 300 ITEMS\n2020-09-15 23:35:11.211733 CURRENTLY SCRAPING ITEM: Halo%20Capsule, NUMBER 98 OF 300 ITEMS\n2020-09-15 23:35:14.295895 CURRENTLY SCRAPING ITEM: Half-Life%3A%20Alyx%20Sticker%20Capsule, NUMBER 99 OF 300 ITEMS\n2020-09-15 23:35:16.592522 CURRENTLY SCRAPING ITEM: Warhammer%2040,000%20Sticker%20Capsule, NUMBER 100 OF 300 ITEMS\n2020-09-15 23:35:19.148881 CURRENTLY SCRAPING ITEM: Autograph%20Capsule%20%7C%20Group%20A%20%28Foil%29%20%7C%20Cologne%202015, NUMBER 101 OF 300 ITEMS\n2020-09-15 23:35:21.565206 CURRENTLY SCRAPING ITEM: Autograph%20Capsule%20%7C%20Group%20B%20%28Foil%29%20%7C%20Cologne%202015, NUMBER 102 OF 300 ITEMS\n2020-09-15 23:35:25.208989 CURRENTLY SCRAPING ITEM: Autograph%20Capsule%20%7C%20Group%20C%20%28Foil%29%20%7C%20Cologne%202015, NUMBER 103 OF 300 ITEMS\n2020-09-15 23:35:27.382167 CURRENTLY SCRAPING ITEM: Autograph%20Capsule%20%7C%20Group%20D%20%28Foil%29%20%7C%20Cologne%202015, NUMBER 104 OF 300 ITEMS\n2020-09-15 23:35:29.276633 CURRENTLY SCRAPING ITEM: Autograph%20Capsule%20%7C%20Fnatic%20%7C%20Cologne%202015, NUMBER 105 OF 300 ITEMS\n2020-09-15 23:35:31.991726 CURRENTLY SCRAPING ITEM: Autograph%20Capsule%20%7C%20Luminosity%20Gaming%20%7C%20Cologne%202015, NUMBER 106 OF 300 ITEMS\n2020-09-15 23:35:33.440733 CURRENTLY SCRAPING ITEM: Autograph%20Capsule%20%7C%20Natus%20Vincere%20%7C%20Cologne%202015, NUMBER 107 OF 300 ITEMS\n2020-09-15 23:35:34.676388 CURRENTLY SCRAPING ITEM: Autograph%20Capsule%20%7C%20Ninjas%20in%20Pyjamas%20%7C%20Cologne%202015, NUMBER 108 OF 300 ITEMS\n2020-09-15 23:35:37.802622 CURRENTLY SCRAPING ITEM: Autograph%20Capsule%20%7C%20Team%20EnVyUs%20%7C%20Cologne%202015, NUMBER 109 OF 300 ITEMS\n2020-09-15 23:35:41.721935 CURRENTLY SCRAPING ITEM: Autograph%20Capsule%20%7C%20Titan%20%7C%20Cologne%202015, NUMBER 110 OF 300 ITEMS\n2020-09-15 23:35:44.297095 CURRENTLY SCRAPING ITEM: Autograph%20Capsule%20%7C%20Team%20SoloMid%20%7C%20Cologne%202015, NUMBER 111 OF 300 ITEMS\n2020-09-15 23:35:48.938960 CURRENTLY SCRAPING ITEM: Autograph%20Capsule%20%7C%20Virtus.Pro%20%7C%20Cologne%202015, NUMBER 112 OF 300 ITEMS\n2020-09-15 23:35:53.745771 CURRENTLY SCRAPING ITEM: Autograph%20Capsule%20%7C%20mousesports%20%7C%20Cologne%202015, NUMBER 113 OF 300 ITEMS\n2020-09-15 23:35:56.019578 CURRENTLY SCRAPING ITEM: Autograph%20Capsule%20%7C%20Renegades%20%7C%20Cologne%202015, NUMBER 114 OF 300 ITEMS\n2020-09-15 23:36:00.685916 CURRENTLY SCRAPING ITEM: Autograph%20Capsule%20%7C%20Team%20Immunity%20%7C%20Cologne%202015, NUMBER 115 OF 300 ITEMS\n2020-09-15 23:36:02.703229 CURRENTLY SCRAPING ITEM: Autograph%20Capsule%20%7C%20Team%20eBettle%20%7C%20Cologne%202015, NUMBER 116 OF 300 ITEMS\n2020-09-15 23:36:05.554746 CURRENTLY SCRAPING ITEM: Autograph%20Capsule%20%7C%20Team%20Kinguin%20%7C%20Cologne%202015, NUMBER 117 OF 300 ITEMS\n2020-09-15 23:36:09.363973 CURRENTLY SCRAPING ITEM: Autograph%20Capsule%20%7C%20Flipsid3%20Tactics%20%7C%20Cologne%202015, NUMBER 118 OF 300 ITEMS\n2020-09-15 23:36:13.886666 CURRENTLY SCRAPING ITEM: Autograph%20Capsule%20%7C%20Counter%20Logic%20Gaming%20%7C%20Cologne%202015, NUMBER 119 OF 300 ITEMS\n2020-09-15 23:36:17.271288 CURRENTLY SCRAPING ITEM: Autograph%20Capsule%20%7C%20Cloud9%20G2A%20%7C%20Cologne%202015, NUMBER 120 OF 300 ITEMS\n2020-09-15 23:36:20.606117 CURRENTLY SCRAPING ITEM: Autograph%20Capsule%20%7C%20Challengers%20%28Foil%29%20%7C%20Cluj-Napoca%202015, NUMBER 121 OF 300 ITEMS\n2020-09-15 23:36:23.827798 CURRENTLY SCRAPING ITEM: Autograph%20Capsule%20%7C%20Legends%20%28Foil%29%20%7C%20Cluj-Napoca%202015, NUMBER 122 OF 300 ITEMS\n2020-09-15 23:36:27.273035 CURRENTLY SCRAPING ITEM: Autograph%20Capsule%20%7C%20Ninjas%20in%20Pyjamas%20%7C%20Cluj-Napoca%202015, NUMBER 123 OF 300 ITEMS\n2020-09-15 23:36:29.763000 CURRENTLY SCRAPING ITEM: Autograph%20Capsule%20%7C%20Team%20Dignitas%20%7C%20Cluj-Napoca%202015, NUMBER 124 OF 300 ITEMS\n2020-09-15 23:36:33.071059 CURRENTLY SCRAPING ITEM: Autograph%20Capsule%20%7C%20Counter%20Logic%20Gaming%20%7C%20Cluj-Napoca%202015, NUMBER 125 OF 300 ITEMS\n2020-09-15 23:36:34.839365 CURRENTLY SCRAPING ITEM: Autograph%20Capsule%20%7C%20Vexed%20Gaming%20%7C%20Cluj-Napoca%202015, NUMBER 126 OF 300 ITEMS\n2020-09-15 23:36:37.284316 CURRENTLY SCRAPING ITEM: Autograph%20Capsule%20%7C%20Flipsid3%20Tactics%20%7C%20Cluj-Napoca%202015, NUMBER 127 OF 300 ITEMS\n2020-09-15 23:36:40.770690 CURRENTLY SCRAPING ITEM: Autograph%20Capsule%20%7C%20Team%20Liquid%20%7C%20Cluj-Napoca%202015, NUMBER 128 OF 300 ITEMS\n2020-09-15 23:36:42.707677 CURRENTLY SCRAPING ITEM: Autograph%20Capsule%20%7C%20mousesports%20%7C%20Cluj-Napoca%202015, NUMBER 129 OF 300 ITEMS\n2020-09-15 23:36:46.468533 CURRENTLY SCRAPING ITEM: Autograph%20Capsule%20%7C%20Natus%20Vincere%20%7C%20Cluj-Napoca%202015, NUMBER 130 OF 300 ITEMS\n2020-09-15 23:36:50.656383 CURRENTLY SCRAPING ITEM: Autograph%20Capsule%20%7C%20Virtus.Pro%20%7C%20Cluj-Napoca%202015, NUMBER 131 OF 300 ITEMS\n2020-09-15 23:36:52.824617 CURRENTLY SCRAPING ITEM: Autograph%20Capsule%20%7C%20Cloud9%20%7C%20Cluj-Napoca%202015, NUMBER 132 OF 300 ITEMS\n2020-09-15 23:36:57.499278 CURRENTLY SCRAPING ITEM: Autograph%20Capsule%20%7C%20G2%20Esports%20%7C%20Cluj-Napoca%202015, NUMBER 133 OF 300 ITEMS\n2020-09-15 23:37:01.186025 CURRENTLY SCRAPING ITEM: Autograph%20Capsule%20%7C%20Titan%20%7C%20Cluj-Napoca%202015, NUMBER 134 OF 300 ITEMS\n2020-09-15 23:37:04.460013 CURRENTLY SCRAPING ITEM: Autograph%20Capsule%20%7C%20Team%20SoloMid%20%7C%20Cluj-Napoca%202015, NUMBER 135 OF 300 ITEMS\n2020-09-15 23:37:07.486136 CURRENTLY SCRAPING ITEM: Autograph%20Capsule%20%7C%20Team%20EnVyUs%20%7C%20Cluj-Napoca%202015, NUMBER 136 OF 300 ITEMS\n2020-09-15 23:37:09.743220 CURRENTLY SCRAPING ITEM: Autograph%20Capsule%20%7C%20Fnatic%20%7C%20Cluj-Napoca%202015, NUMBER 137 OF 300 ITEMS\n2020-09-15 23:37:13.759626 CURRENTLY SCRAPING ITEM: Autograph%20Capsule%20%7C%20Luminosity%20Gaming%20%7C%20Cluj-Napoca%202015, NUMBER 138 OF 300 ITEMS\n2020-09-15 23:37:16.596609 CURRENTLY SCRAPING ITEM: Autograph%20Capsule%20%7C%20Challengers%20%28Foil%29%20%7C%20MLG%20Columbus%202016, NUMBER 139 OF 300 ITEMS\n2020-09-15 23:37:19.527814 CURRENTLY SCRAPING ITEM: Autograph%20Capsule%20%7C%20Legends%20%28Foil%29%20%7C%20MLG%20Columbus%202016, NUMBER 140 OF 300 ITEMS\n2020-09-15 23:37:23.380997 CURRENTLY SCRAPING ITEM: Autograph%20Capsule%20%7C%20Ninjas%20in%20Pyjamas%20%7C%20MLG%20Columbus%202016, NUMBER 141 OF 300 ITEMS\n2020-09-15 23:37:28.026589 CURRENTLY SCRAPING ITEM: Autograph%20Capsule%20%7C%20Splyce%20%7C%20MLG%20Columbus%202016, NUMBER 142 OF 300 ITEMS\n2020-09-15 23:37:32.403185 CURRENTLY SCRAPING ITEM: Autograph%20Capsule%20%7C%20Counter%20Logic%20Gaming%20%7C%20MLG%20Columbus%202016, NUMBER 143 OF 300 ITEMS\n2020-09-15 23:37:34.911745 CURRENTLY SCRAPING ITEM: Autograph%20Capsule%20%7C%20Gambit%20Gaming%20%7C%20MLG%20Columbus%202016, NUMBER 144 OF 300 ITEMS\n2020-09-15 23:37:39.397125 CURRENTLY SCRAPING ITEM: Autograph%20Capsule%20%7C%20Flipsid3%20Tactics%20%7C%20MLG%20Columbus%202016, NUMBER 145 OF 300 ITEMS\n2020-09-15 23:37:41.713062 CURRENTLY SCRAPING ITEM: Autograph%20Capsule%20%7C%20Team%20Liquid%20%7C%20MLG%20Columbus%202016, NUMBER 146 OF 300 ITEMS\n2020-09-15 23:37:44.213165 CURRENTLY SCRAPING ITEM: Autograph%20Capsule%20%7C%20mousesports%20%7C%20MLG%20Columbus%202016, NUMBER 147 OF 300 ITEMS\n2020-09-15 23:37:47.951958 CURRENTLY SCRAPING ITEM: Autograph%20Capsule%20%7C%20Natus%20Vincere%20%7C%20MLG%20Columbus%202016, NUMBER 148 OF 300 ITEMS\n2020-09-15 23:37:50.832311 CURRENTLY SCRAPING ITEM: Autograph%20Capsule%20%7C%20Virtus.Pro%20%7C%20MLG%20Columbus%202016, NUMBER 149 OF 300 ITEMS\n2020-09-15 23:37:52.859761 CURRENTLY SCRAPING ITEM: Autograph%20Capsule%20%7C%20Cloud9%20%7C%20MLG%20Columbus%202016, NUMBER 150 OF 300 ITEMS\n2020-09-15 23:37:56.387834 CURRENTLY SCRAPING ITEM: Autograph%20Capsule%20%7C%20G2%20Esports%20%7C%20MLG%20Columbus%202016, NUMBER 151 OF 300 ITEMS\n2020-09-15 23:37:59.707932 CURRENTLY SCRAPING ITEM: Autograph%20Capsule%20%7C%20FaZe%20Clan%20%7C%20MLG%20Columbus%202016, NUMBER 152 OF 300 ITEMS\n2020-09-15 23:38:03.103978 CURRENTLY SCRAPING ITEM: Autograph%20Capsule%20%7C%20Astralis%20%7C%20MLG%20Columbus%202016, NUMBER 153 OF 300 ITEMS\n2020-09-15 23:38:06.942122 CURRENTLY SCRAPING ITEM: Autograph%20Capsule%20%7C%20Team%20EnVyUs%20%7C%20MLG%20Columbus%202016, NUMBER 154 OF 300 ITEMS\n2020-09-15 23:38:09.072996 CURRENTLY SCRAPING ITEM: Autograph%20Capsule%20%7C%20Fnatic%20%7C%20MLG%20Columbus%202016, NUMBER 155 OF 300 ITEMS\n2020-09-15 23:38:12.784106 CURRENTLY SCRAPING ITEM: Autograph%20Capsule%20%7C%20Luminosity%20Gaming%20%7C%20MLG%20Columbus%202016, NUMBER 156 OF 300 ITEMS\n2020-09-15 23:38:16.045170 CURRENTLY SCRAPING ITEM: Autograph%20Capsule%20%7C%20Challengers%20%28Foil%29%20%7C%20Cologne%202016, NUMBER 157 OF 300 ITEMS\n2020-09-15 23:38:19.996653 CURRENTLY SCRAPING ITEM: Autograph%20Capsule%20%7C%20Legends%20%28Foil%29%20%7C%20Cologne%202016, NUMBER 158 OF 300 ITEMS\n2020-09-15 23:38:21.830583 CURRENTLY SCRAPING ITEM: Autograph%20Capsule%20%7C%20Ninjas%20in%20Pyjamas%20%7C%20Cologne%202016, NUMBER 159 OF 300 ITEMS\n2020-09-15 23:38:26.481365 CURRENTLY SCRAPING ITEM: Autograph%20Capsule%20%7C%20OpTic%20Gaming%20%7C%20Cologne%202016, NUMBER 160 OF 300 ITEMS\n2020-09-15 23:38:28.820459 CURRENTLY SCRAPING ITEM: Autograph%20Capsule%20%7C%20Counter%20Logic%20Gaming%20%7C%20Cologne%202016, NUMBER 161 OF 300 ITEMS\n2020-09-15 23:38:32.237039 CURRENTLY SCRAPING ITEM: Autograph%20Capsule%20%7C%20Gambit%20Gaming%20%7C%20Cologne%202016, NUMBER 162 OF 300 ITEMS\n2020-09-15 23:38:34.306723 CURRENTLY SCRAPING ITEM: Autograph%20Capsule%20%7C%20Flipsid3%20Tactics%20%7C%20Cologne%202016, NUMBER 163 OF 300 ITEMS\n2020-09-15 23:38:38.111193 CURRENTLY SCRAPING ITEM: Autograph%20Capsule%20%7C%20Team%20Liquid%20%7C%20Cologne%202016, NUMBER 164 OF 300 ITEMS\n2020-09-15 23:38:40.857542 CURRENTLY SCRAPING ITEM: Autograph%20Capsule%20%7C%20mousesports%20%7C%20Cologne%202016, NUMBER 165 OF 300 ITEMS\n2020-09-15 23:38:43.506020 CURRENTLY SCRAPING ITEM: Autograph%20Capsule%20%7C%20Natus%20Vincere%20%7C%20Cologne%202016, NUMBER 166 OF 300 ITEMS\n2020-09-15 23:38:47.342212 CURRENTLY SCRAPING ITEM: Autograph%20Capsule%20%7C%20Virtus.Pro%20%7C%20Cologne%202016, NUMBER 167 OF 300 ITEMS\n2020-09-15 23:38:50.915174 CURRENTLY SCRAPING ITEM: Autograph%20Capsule%20%7C%20SK%20Gaming%20%7C%20Cologne%202016, NUMBER 168 OF 300 ITEMS\n2020-09-15 23:38:52.752817 CURRENTLY SCRAPING ITEM: Autograph%20Capsule%20%7C%20G2%20Esports%20%7C%20Cologne%202016, NUMBER 169 OF 300 ITEMS\n2020-09-15 23:38:55.797845 CURRENTLY SCRAPING ITEM: Autograph%20Capsule%20%7C%20FaZe%20Clan%20%7C%20Cologne%202016, NUMBER 170 OF 300 ITEMS\n2020-09-15 23:38:58.870127 CURRENTLY SCRAPING ITEM: Autograph%20Capsule%20%7C%20Astralis%20%7C%20Cologne%202016, NUMBER 171 OF 300 ITEMS\n2020-09-15 23:38:59.809000 CURRENTLY SCRAPING ITEM: Autograph%20Capsule%20%7C%20Team%20EnVyUs%20%7C%20Cologne%202016, NUMBER 172 OF 300 ITEMS\n2020-09-15 23:39:03.330313 CURRENTLY SCRAPING ITEM: Autograph%20Capsule%20%7C%20Fnatic%20%7C%20Cologne%202016, NUMBER 173 OF 300 ITEMS\n2020-09-15 23:39:06.011981 CURRENTLY SCRAPING ITEM: Autograph%20Capsule%20%7C%20Team%20Dignitas%20%7C%20Cologne%202016, NUMBER 174 OF 300 ITEMS\n2020-09-15 23:39:09.384701 CURRENTLY SCRAPING ITEM: Autograph%20Capsule%20%7C%20Challengers%20%28Foil%29%20%7C%20Atlanta%202017, NUMBER 175 OF 300 ITEMS\n2020-09-15 23:39:12.768186 CURRENTLY SCRAPING ITEM: Autograph%20Capsule%20%7C%20Legends%20%28Foil%29%20%7C%20Atlanta%202017, NUMBER 176 OF 300 ITEMS\n2020-09-15 23:39:17.036715 CURRENTLY SCRAPING ITEM: Autograph%20Capsule%20%7C%20Astralis%20%7C%20Atlanta%202017, NUMBER 177 OF 300 ITEMS\n2020-09-15 23:39:18.908162 CURRENTLY SCRAPING ITEM: Autograph%20Capsule%20%7C%20Team%20EnVyUs%20%7C%20Atlanta%202017, NUMBER 178 OF 300 ITEMS\n2020-09-15 23:39:22.862836 CURRENTLY SCRAPING ITEM: Autograph%20Capsule%20%7C%20FaZe%20Clan%20%7C%20Atlanta%202017, NUMBER 179 OF 300 ITEMS\n2020-09-15 23:39:25.604333 CURRENTLY SCRAPING ITEM: Autograph%20Capsule%20%7C%20Flipsid3%20Tactics%20%7C%20Atlanta%202017, NUMBER 180 OF 300 ITEMS\n2020-09-15 23:39:29.469599 CURRENTLY SCRAPING ITEM: Autograph%20Capsule%20%7C%20Fnatic%20%7C%20Atlanta%202017, NUMBER 181 OF 300 ITEMS\n2020-09-15 23:39:32.863503 CURRENTLY SCRAPING ITEM: Autograph%20Capsule%20%7C%20G2%20Esports%20%7C%20Atlanta%202017, NUMBER 182 OF 300 ITEMS\n2020-09-15 23:39:34.710561 CURRENTLY SCRAPING ITEM: Autograph%20Capsule%20%7C%20Gambit%20Gaming%20%7C%20Atlanta%202017, NUMBER 183 OF 300 ITEMS\n2020-09-15 23:39:37.652207 CURRENTLY SCRAPING ITEM: Autograph%20Capsule%20%7C%20GODSENT%20%7C%20Atlanta%202017, NUMBER 184 OF 300 ITEMS\n2020-09-15 23:39:42.765574 CURRENTLY SCRAPING ITEM: Autograph%20Capsule%20%7C%20HellRaisers%20%7C%20Atlanta%202017, NUMBER 185 OF 300 ITEMS\n2020-09-15 23:39:46.230461 CURRENTLY SCRAPING ITEM: Autograph%20Capsule%20%7C%20mousesports%20%7C%20Atlanta%202017, NUMBER 186 OF 300 ITEMS\n2020-09-15 23:39:49.034200 CURRENTLY SCRAPING ITEM: Autograph%20Capsule%20%7C%20Natus%20Vincere%20%7C%20Atlanta%202017, NUMBER 187 OF 300 ITEMS\n2020-09-15 23:39:52.881168 CURRENTLY SCRAPING ITEM: Autograph%20Capsule%20%7C%20North%20%7C%20Atlanta%202017, NUMBER 188 OF 300 ITEMS\n2020-09-15 23:39:55.444713 CURRENTLY SCRAPING ITEM: Autograph%20Capsule%20%7C%20OpTic%20Gaming%20%7C%20Atlanta%202017, NUMBER 189 OF 300 ITEMS\n2020-09-15 23:39:58.808621 CURRENTLY SCRAPING ITEM: Autograph%20Capsule%20%7C%20SK%20Gaming%20%7C%20Atlanta%202017, NUMBER 190 OF 300 ITEMS\n2020-09-15 23:40:01.175929 CURRENTLY SCRAPING ITEM: Autograph%20Capsule%20%7C%20Team%20Liquid%20%7C%20Atlanta%202017, NUMBER 191 OF 300 ITEMS\n2020-09-15 23:40:03.331035 CURRENTLY SCRAPING ITEM: Autograph%20Capsule%20%7C%20Virtus.Pro%20%7C%20Atlanta%202017, NUMBER 192 OF 300 ITEMS\n2020-09-15 23:40:06.239993 CURRENTLY SCRAPING ITEM: Krakow%202017%20Challengers%20Autograph%20Capsule, NUMBER 193 OF 300 ITEMS\n2020-09-15 23:40:09.064609 CURRENTLY SCRAPING ITEM: Krakow%202017%20Legends%20Autograph%20Capsule, NUMBER 194 OF 300 ITEMS\n2020-09-15 23:40:13.466246 CURRENTLY SCRAPING ITEM: Boston%202018%20Legends%20Autograph%20Capsule, NUMBER 195 OF 300 ITEMS\n2020-09-15 23:40:18.811641 CURRENTLY SCRAPING ITEM: Boston%202018%20Returning%20Challengers%20Autograph%20Capsule, NUMBER 196 OF 300 ITEMS\n2020-09-15 23:40:21.009213 CURRENTLY SCRAPING ITEM: Boston%202018%20Minor%20Challengers%20Autograph%20Capsule, NUMBER 197 OF 300 ITEMS\n2020-09-15 23:40:24.413241 CURRENTLY SCRAPING ITEM: Boston%202018%20Minor%20Challengers%20with%20Flash%20Gaming%20Autograph%20Capsule, NUMBER 198 OF 300 ITEMS\n2020-09-15 23:40:27.292592 CURRENTLY SCRAPING ITEM: Boston%202018%20Attending%20Legends%20Autograph%20Capsule, NUMBER 199 OF 300 ITEMS\n2020-09-15 23:40:32.715074 CURRENTLY SCRAPING ITEM: London%202018%20Legends%20Autograph%20Capsule, NUMBER 200 OF 300 ITEMS\n2020-09-15 23:40:35.788200 CURRENTLY SCRAPING ITEM: London%202018%20Returning%20Challengers%20Autograph%20Capsule, NUMBER 201 OF 300 ITEMS\n2020-09-15 23:40:38.237579 CURRENTLY SCRAPING ITEM: London%202018%20Minor%20Challengers%20Autograph%20Capsule, NUMBER 202 OF 300 ITEMS\n2020-09-15 23:40:40.098850 CURRENTLY SCRAPING ITEM: Katowice%202019%20Legends%20Autograph%20Capsule, NUMBER 203 OF 300 ITEMS\n2020-09-15 23:40:43.382782 CURRENTLY SCRAPING ITEM: Katowice%202019%20Returning%20Challengers%20Autograph%20Capsule, NUMBER 204 OF 300 ITEMS\n2020-09-15 23:40:46.950977 CURRENTLY SCRAPING ITEM: Katowice%202019%20Minor%20Challengers%20Autograph%20Capsule, NUMBER 205 OF 300 ITEMS\n2020-09-15 23:40:51.610693 CURRENTLY SCRAPING ITEM: Berlin%202019%20Legends%20Autograph%20Capsule, NUMBER 206 OF 300 ITEMS\n2020-09-15 23:40:54.869814 CURRENTLY SCRAPING ITEM: Berlin%202019%20Returning%20Challengers%20Autograph%20Capsule, NUMBER 207 OF 300 ITEMS\n2020-09-15 23:40:58.678341 CURRENTLY SCRAPING ITEM: Berlin%202019%20Minor%20Challengers%20Autograph%20Capsule, NUMBER 208 OF 300 ITEMS\n2020-09-15 23:41:02.623077 CURRENTLY SCRAPING ITEM: ESL%20One%20Cologne%202014%20Dust%20II%20Souvenir%20Package, NUMBER 209 OF 300 ITEMS\n2020-09-15 23:41:08.007665 CURRENTLY SCRAPING ITEM: ESL%20One%20Cologne%202014%20Inferno%20Souvenir%20Package, NUMBER 210 OF 300 ITEMS\n2020-09-15 23:41:11.840177 CURRENTLY SCRAPING ITEM: ESL%20One%20Cologne%202014%20Mirage%20Souvenir%20Package, NUMBER 211 OF 300 ITEMS\n2020-09-15 23:41:14.794142 CURRENTLY SCRAPING ITEM: ESL%20One%20Cologne%202014%20Nuke%20Souvenir%20Package, NUMBER 212 OF 300 ITEMS\n2020-09-15 23:41:17.174896 CURRENTLY SCRAPING ITEM: ESL%20One%20Cologne%202014%20Cache%20Souvenir%20Package, NUMBER 213 OF 300 ITEMS\n2020-09-15 23:41:19.041282 CURRENTLY SCRAPING ITEM: ESL%20One%20Cologne%202014%20Cobblestone%20Souvenir%20Package, NUMBER 214 OF 300 ITEMS\n2020-09-15 23:41:21.691834 CURRENTLY SCRAPING ITEM: ESL%20One%20Cologne%202014%20Overpass%20Souvenir%20Package, NUMBER 215 OF 300 ITEMS\n2020-09-15 23:41:23.573727 CURRENTLY SCRAPING ITEM: DreamHack%202014%20Dust%20II%20Souvenir%20Package, NUMBER 216 OF 300 ITEMS\n2020-09-15 23:41:26.917159 CURRENTLY SCRAPING ITEM: DreamHack%202014%20Inferno%20Souvenir%20Package, NUMBER 217 OF 300 ITEMS\n2020-09-15 23:41:30.273402 CURRENTLY SCRAPING ITEM: DreamHack%202014%20Mirage%20Souvenir%20Package, NUMBER 218 OF 300 ITEMS\n2020-09-15 23:41:34.755996 CURRENTLY SCRAPING ITEM: DreamHack%202014%20Nuke%20Souvenir%20Package, NUMBER 219 OF 300 ITEMS\n2020-09-15 23:41:38.589933 CURRENTLY SCRAPING ITEM: DreamHack%202014%20Cache%20Souvenir%20Package, NUMBER 220 OF 300 ITEMS\n2020-09-15 23:41:40.760034 CURRENTLY SCRAPING ITEM: DreamHack%202014%20Cobblestone%20Souvenir%20Package, NUMBER 221 OF 300 ITEMS\n2020-09-15 23:41:45.916355 CURRENTLY SCRAPING ITEM: DreamHack%202014%20Overpass%20Souvenir%20Package, NUMBER 222 OF 300 ITEMS\n2020-09-15 23:41:48.850016 CURRENTLY SCRAPING ITEM: ESL%20One%20Katowice%202015%20Dust%20II%20Souvenir%20Package, NUMBER 223 OF 300 ITEMS\n2020-09-15 23:41:51.960774 CURRENTLY SCRAPING ITEM: ESL%20One%20Katowice%202015%20Inferno%20Souvenir%20Package, NUMBER 224 OF 300 ITEMS\n2020-09-15 23:41:55.127128 CURRENTLY SCRAPING ITEM: ESL%20One%20Katowice%202015%20Mirage%20Souvenir%20Package, NUMBER 225 OF 300 ITEMS\n2020-09-15 23:41:58.532976 CURRENTLY SCRAPING ITEM: ESL%20One%20Katowice%202015%20Nuke%20Souvenir%20Package, NUMBER 226 OF 300 ITEMS\n2020-09-15 23:42:00.489445 CURRENTLY SCRAPING ITEM: ESL%20One%20Katowice%202015%20Cache%20Souvenir%20Package, NUMBER 227 OF 300 ITEMS\n2020-09-15 23:42:05.043517 CURRENTLY SCRAPING ITEM: ESL%20One%20Katowice%202015%20Cobblestone%20Souvenir%20Package, NUMBER 228 OF 300 ITEMS\n2020-09-15 23:42:08.474987 CURRENTLY SCRAPING ITEM: ESL%20One%20Katowice%202015%20Overpass%20Souvenir%20Package, NUMBER 229 OF 300 ITEMS\n2020-09-15 23:42:12.723249 CURRENTLY SCRAPING ITEM: ESL%20One%20Cologne%202015%20Dust%20II%20Souvenir%20Package, NUMBER 230 OF 300 ITEMS\n2020-09-15 23:42:16.008959 CURRENTLY SCRAPING ITEM: ESL%20One%20Cologne%202015%20Mirage%20Souvenir%20Package, NUMBER 231 OF 300 ITEMS\n2020-09-15 23:42:20.655511 CURRENTLY SCRAPING ITEM: ESL%20One%20Cologne%202015%20Inferno%20Souvenir%20Package, NUMBER 232 OF 300 ITEMS\n2020-09-15 23:42:22.755823 CURRENTLY SCRAPING ITEM: ESL%20One%20Cologne%202015%20Cobblestone%20Souvenir%20Package, NUMBER 233 OF 300 ITEMS\n2020-09-15 23:42:26.032596 CURRENTLY SCRAPING ITEM: ESL%20One%20Cologne%202015%20Overpass%20Souvenir%20Package, NUMBER 234 OF 300 ITEMS\n2020-09-15 23:42:29.115863 CURRENTLY SCRAPING ITEM: ESL%20One%20Cologne%202015%20Cache%20Souvenir%20Package, NUMBER 235 OF 300 ITEMS\n2020-09-15 23:42:33.502759 CURRENTLY SCRAPING ITEM: ESL%20One%20Cologne%202015%20Train%20Souvenir%20Package, NUMBER 236 OF 300 ITEMS\n2020-09-15 23:42:35.280000 CURRENTLY SCRAPING ITEM: DreamHack%20Cluj-Napoca%202015%20Dust%20II%20Souvenir%20Package, NUMBER 237 OF 300 ITEMS\n2020-09-15 23:42:38.741886 CURRENTLY SCRAPING ITEM: DreamHack%20Cluj-Napoca%202015%20Mirage%20Souvenir%20Package, NUMBER 238 OF 300 ITEMS\n2020-09-15 23:42:41.821332 CURRENTLY SCRAPING ITEM: DreamHack%20Cluj-Napoca%202015%20Inferno%20Souvenir%20Package, NUMBER 239 OF 300 ITEMS\n2020-09-15 23:42:44.489738 CURRENTLY SCRAPING ITEM: DreamHack%20Cluj-Napoca%202015%20Cobblestone%20Souvenir%20Package, NUMBER 240 OF 300 ITEMS\n2020-09-15 23:42:46.239032 CURRENTLY SCRAPING ITEM: DreamHack%20Cluj-Napoca%202015%20Overpass%20Souvenir%20Package, NUMBER 241 OF 300 ITEMS\n2020-09-15 23:42:47.758993 CURRENTLY SCRAPING ITEM: DreamHack%20Cluj-Napoca%202015%20Cache%20Souvenir%20Package, NUMBER 242 OF 300 ITEMS\n2020-09-15 23:42:50.005608 CURRENTLY SCRAPING ITEM: DreamHack%20Cluj-Napoca%202015%20Train%20Souvenir%20Package, NUMBER 243 OF 300 ITEMS\n2020-09-15 23:42:52.306770 CURRENTLY SCRAPING ITEM: MLG%20Columbus%202016%20Dust%20II%20Souvenir%20Package, NUMBER 244 OF 300 ITEMS\n2020-09-15 23:42:55.269992 CURRENTLY SCRAPING ITEM: MLG%20Columbus%202016%20Mirage%20Souvenir%20Package, NUMBER 245 OF 300 ITEMS\n2020-09-15 23:42:58.011623 CURRENTLY SCRAPING ITEM: MLG%20Columbus%202016%20Inferno%20Souvenir%20Package, NUMBER 246 OF 300 ITEMS\n2020-09-15 23:43:01.200952 CURRENTLY SCRAPING ITEM: MLG%20Columbus%202016%20Cobblestone%20Souvenir%20Package, NUMBER 247 OF 300 ITEMS\n2020-09-15 23:43:05.889326 CURRENTLY SCRAPING ITEM: MLG%20Columbus%202016%20Overpass%20Souvenir%20Package, NUMBER 248 OF 300 ITEMS\n2020-09-15 23:43:08.858085 CURRENTLY SCRAPING ITEM: MLG%20Columbus%202016%20Cache%20Souvenir%20Package, NUMBER 249 OF 300 ITEMS\n2020-09-15 23:43:11.084484 CURRENTLY SCRAPING ITEM: MLG%20Columbus%202016%20Train%20Souvenir%20Package, NUMBER 250 OF 300 ITEMS\n2020-09-15 23:43:14.256815 CURRENTLY SCRAPING ITEM: MLG%20Columbus%202016%20Nuke%20Souvenir%20Package, NUMBER 251 OF 300 ITEMS\n2020-09-15 23:43:17.937189 CURRENTLY SCRAPING ITEM: Cologne%202016%20Dust%20II%20Souvenir%20Package, NUMBER 252 OF 300 ITEMS\n2020-09-15 23:43:20.480041 CURRENTLY SCRAPING ITEM: Cologne%202016%20Mirage%20Souvenir%20Package, NUMBER 253 OF 300 ITEMS\n2020-09-15 23:43:23.036222 CURRENTLY SCRAPING ITEM: Cologne%202016%20Cobblestone%20Souvenir%20Package, NUMBER 254 OF 300 ITEMS\n2020-09-15 23:43:29.637429 CURRENTLY SCRAPING ITEM: Cologne%202016%20Overpass%20Souvenir%20Package, NUMBER 255 OF 300 ITEMS\n2020-09-15 23:43:30.915181 CURRENTLY SCRAPING ITEM: Cologne%202016%20Cache%20Souvenir%20Package, NUMBER 256 OF 300 ITEMS\n2020-09-15 23:43:34.102577 CURRENTLY SCRAPING ITEM: Cologne%202016%20Train%20Souvenir%20Package, NUMBER 257 OF 300 ITEMS\n2020-09-15 23:43:37.334799 CURRENTLY SCRAPING ITEM: Cologne%202016%20Nuke%20Souvenir%20Package, NUMBER 258 OF 300 ITEMS\n2020-09-15 23:43:40.203825 CURRENTLY SCRAPING ITEM: Atlanta%202017%20Dust%20II%20Souvenir%20Package, NUMBER 259 OF 300 ITEMS\n2020-09-15 23:43:42.252916 CURRENTLY SCRAPING ITEM: Atlanta%202017%20Mirage%20Souvenir%20Package, NUMBER 260 OF 300 ITEMS\n2020-09-15 23:43:44.106427 CURRENTLY SCRAPING ITEM: Atlanta%202017%20Cobblestone%20Souvenir%20Package, NUMBER 261 OF 300 ITEMS\n2020-09-15 23:43:46.459160 CURRENTLY SCRAPING ITEM: Atlanta%202017%20Overpass%20Souvenir%20Package, NUMBER 262 OF 300 ITEMS\n2020-09-15 23:43:49.680110 CURRENTLY SCRAPING ITEM: Atlanta%202017%20Cache%20Souvenir%20Package, NUMBER 263 OF 300 ITEMS\n2020-09-15 23:43:52.776745 CURRENTLY SCRAPING ITEM: Atlanta%202017%20Train%20Souvenir%20Package, NUMBER 264 OF 300 ITEMS\n2020-09-15 23:43:55.655051 CURRENTLY SCRAPING ITEM: Atlanta%202017%20Nuke%20Souvenir%20Package, NUMBER 265 OF 300 ITEMS\n2020-09-15 23:43:58.872486 CURRENTLY SCRAPING ITEM: Krakow%202017%20Inferno%20Souvenir%20Package, NUMBER 266 OF 300 ITEMS\n2020-09-15 23:44:02.549513 CURRENTLY SCRAPING ITEM: Krakow%202017%20Mirage%20Souvenir%20Package, NUMBER 267 OF 300 ITEMS\n2020-09-15 23:44:05.795616 CURRENTLY SCRAPING ITEM: Krakow%202017%20Cobblestone%20Souvenir%20Package, NUMBER 268 OF 300 ITEMS\n2020-09-15 23:44:08.867742 CURRENTLY SCRAPING ITEM: Krakow%202017%20Overpass%20Souvenir%20Package, NUMBER 269 OF 300 ITEMS\n2020-09-15 23:44:12.831259 CURRENTLY SCRAPING ITEM: Krakow%202017%20Cache%20Souvenir%20Package, NUMBER 270 OF 300 ITEMS\n2020-09-15 23:44:17.302282 CURRENTLY SCRAPING ITEM: Krakow%202017%20Train%20Souvenir%20Package, NUMBER 271 OF 300 ITEMS\n2020-09-15 23:44:19.480340 CURRENTLY SCRAPING ITEM: Krakow%202017%20Nuke%20Souvenir%20Package, NUMBER 272 OF 300 ITEMS\n2020-09-15 23:44:22.126108 CURRENTLY SCRAPING ITEM: Boston%202018%20Inferno%20Souvenir%20Package, NUMBER 273 OF 300 ITEMS\n2020-09-15 23:44:24.700666 CURRENTLY SCRAPING ITEM: Boston%202018%20Mirage%20Souvenir%20Package, NUMBER 274 OF 300 ITEMS\n2020-09-15 23:44:28.763573 CURRENTLY SCRAPING ITEM: Boston%202018%20Cobblestone%20Souvenir%20Package, NUMBER 275 OF 300 ITEMS\n2020-09-15 23:44:31.634349 CURRENTLY SCRAPING ITEM: Boston%202018%20Overpass%20Souvenir%20Package, NUMBER 276 OF 300 ITEMS\n2020-09-15 23:44:35.550520 CURRENTLY SCRAPING ITEM: Boston%202018%20Cache%20Souvenir%20Package, NUMBER 277 OF 300 ITEMS\n2020-09-15 23:44:37.908297 CURRENTLY SCRAPING ITEM: Boston%202018%20Train%20Souvenir%20Package, NUMBER 278 OF 300 ITEMS\n2020-09-15 23:44:41.001978 CURRENTLY SCRAPING ITEM: Boston%202018%20Nuke%20Souvenir%20Package, NUMBER 279 OF 300 ITEMS\n2020-09-15 23:44:42.870664 CURRENTLY SCRAPING ITEM: London%202018%20Inferno%20Souvenir%20Package, NUMBER 280 OF 300 ITEMS\n2020-09-15 23:44:45.350998 CURRENTLY SCRAPING ITEM: London%202018%20Mirage%20Souvenir%20Package, NUMBER 281 OF 300 ITEMS\n2020-09-15 23:44:49.924116 CURRENTLY SCRAPING ITEM: London%202018%20Dust%20II%20Souvenir%20Package, NUMBER 282 OF 300 ITEMS\n2020-09-15 23:44:52.008034 CURRENTLY SCRAPING ITEM: London%202018%20Overpass%20Souvenir%20Package, NUMBER 283 OF 300 ITEMS\n2020-09-15 23:44:54.889961 CURRENTLY SCRAPING ITEM: London%202018%20Cache%20Souvenir%20Package, NUMBER 284 OF 300 ITEMS\n2020-09-15 23:44:58.298259 CURRENTLY SCRAPING ITEM: London%202018%20Train%20Souvenir%20Package, NUMBER 285 OF 300 ITEMS\n2020-09-15 23:45:03.232028 CURRENTLY SCRAPING ITEM: London%202018%20Nuke%20Souvenir%20Package, NUMBER 286 OF 300 ITEMS\n2020-09-15 23:45:07.347322 CURRENTLY SCRAPING ITEM: Katowice%202019%20Inferno%20Souvenir%20Package, NUMBER 287 OF 300 ITEMS\n2020-09-15 23:45:10.190134 CURRENTLY SCRAPING ITEM: Katowice%202019%20Mirage%20Souvenir%20Package, NUMBER 288 OF 300 ITEMS\n2020-09-15 23:45:12.633166 CURRENTLY SCRAPING ITEM: Katowice%202019%20Dust%20II%20Souvenir%20Package, NUMBER 289 OF 300 ITEMS\n2020-09-15 23:45:16.945048 CURRENTLY SCRAPING ITEM: Katowice%202019%20Overpass%20Souvenir%20Package, NUMBER 290 OF 300 ITEMS\n2020-09-15 23:45:21.890240 CURRENTLY SCRAPING ITEM: Katowice%202019%20Cache%20Souvenir%20Package, NUMBER 291 OF 300 ITEMS\n2020-09-15 23:45:26.170255 CURRENTLY SCRAPING ITEM: Katowice%202019%20Train%20Souvenir%20Package, NUMBER 292 OF 300 ITEMS\n2020-09-15 23:45:30.187804 CURRENTLY SCRAPING ITEM: Katowice%202019%20Nuke%20Souvenir%20Package, NUMBER 293 OF 300 ITEMS\n2020-09-15 23:45:33.014060 CURRENTLY SCRAPING ITEM: Berlin%202019%20Inferno%20Souvenir%20Package, NUMBER 294 OF 300 ITEMS\n2020-09-15 23:45:34.646197 CURRENTLY SCRAPING ITEM: Berlin%202019%20Mirage%20Souvenir%20Package, NUMBER 295 OF 300 ITEMS\n2020-09-15 23:45:37.528501 CURRENTLY SCRAPING ITEM: Berlin%202019%20Dust%20II%20Souvenir%20Package, NUMBER 296 OF 300 ITEMS\n2020-09-15 23:45:40.827864 CURRENTLY SCRAPING ITEM: Berlin%202019%20Overpass%20Souvenir%20Package, NUMBER 297 OF 300 ITEMS\n2020-09-15 23:45:43.399769 CURRENTLY SCRAPING ITEM: Berlin%202019%20Train%20Souvenir%20Package, NUMBER 298 OF 300 ITEMS\n2020-09-15 23:45:48.042569 CURRENTLY SCRAPING ITEM: Berlin%202019%20Nuke%20Souvenir%20Package, NUMBER 299 OF 300 ITEMS\n2020-09-15 23:45:52.884579 CURRENTLY SCRAPING ITEM: Berlin%202019%20Vertigo%20Souvenir%20Package, NUMBER 300 OF 300 ITEMS\nmade a new file!\n"
    }
   ],
   "source": [
    "case_history = {}\n",
    "i = 0\n",
    "current_num = 0\n",
    "total_items = len(all_cases.index)\n",
    "\n",
    "for index, row in all_cases.iterrows():\n",
    "    current_num += 1\n",
    "    time.sleep(random.uniform(.5, 3)) # avoid steam rate limiting with a random sleep\n",
    "    name = make_case_hash(row[\"Skin\"])\n",
    "    price_vol_history = get_history(name)\n",
    "    if price_vol_history == 1:\n",
    "        print(\"{0} HAS FAILED\".format(name))\n",
    "        continue\n",
    "    col_index = \"col_\" + str(i)\n",
    "    case_history[col_index] = [row[\"Weapon\"], row[\"Collection\"], None, row[\"Skin\"], None, None, None] + price_vol_history\n",
    "    i += 1\n",
    "    if current_num % 300 == 0: # saves the data to csv every 100 items to protect against crashes\n",
    "        print(\"made a new file!\")\n",
    "        skins_prices = pd.DataFrame.from_dict(case_history, orient = \"index\")\n",
    "        skins_prices.to_excel(\"others_query/cases{}.xlsx\".format(current_num / 300))\n",
    "        case_history.clear()\n",
    "\n",
    "if case_history != {}:\n",
    "    print(\"finished!\")\n",
    "    skins_prices = pd.DataFrame.from_dict(case_history, orient = \"index\")\n",
    "    skins_prices.to_excel(\"others_query/cases_final.xlsx\")"
   ]
  },
  {
   "source": [
    "## Others Price History Collection\n",
    "\n",
    "Others are a bit more finnicky. Music Kits do have a StatTrak variant which much be accounted for by iterating through StatTraks. The various items are also formatted in wildly different ways ways which also must be accounted for."
   ],
   "cell_type": "markdown",
   "metadata": {}
  },
  {
   "cell_type": "code",
   "execution_count": 19,
   "metadata": {},
   "outputs": [
    {
     "output_type": "execute_result",
     "data": {
      "text/plain": "      Weapon          Collection                                         Skin  \\\n0     Agents  Shattered Web Case                            Soldier | Phoenix   \n1     Agents  Shattered Web Case                   Ground Rebel  | Elite Crew   \n2     Agents  Shattered Web Case                           Enforcer | Phoenix   \n3     Agents  Shattered Web Case                          Operator | FBI SWAT   \n4     Agents  Shattered Web Case                     B Squadron Officer | SAS   \n...      ...                 ...                                          ...   \n1787   Items                 NaN                              Prisma Case Key   \n1788   Items                 NaN                      Berlin 2019 Viewer Pass   \n1789   Items                 NaN  Berlin 2019 Viewer Pass + 3 Souvenir Tokens   \n1790   Items                 NaN                                CS20 Case Key   \n1791   Items                 NaN         Operation Shattered Web Premium Pass   \n\n            Quality  StatTrak  \n0     Distinguished     False  \n1     Distinguished     False  \n2     Distinguished     False  \n3     Distinguished     False  \n4     Distinguished     False  \n...             ...       ...  \n1787            NaN     False  \n1788            NaN     False  \n1789            NaN     False  \n1790            NaN     False  \n1791            NaN     False  \n\n[1792 rows x 5 columns]",
      "text/html": "<div>\n<style scoped>\n    .dataframe tbody tr th:only-of-type {\n        vertical-align: middle;\n    }\n\n    .dataframe tbody tr th {\n        vertical-align: top;\n    }\n\n    .dataframe thead th {\n        text-align: right;\n    }\n</style>\n<table border=\"1\" class=\"dataframe\">\n  <thead>\n    <tr style=\"text-align: right;\">\n      <th></th>\n      <th>Weapon</th>\n      <th>Collection</th>\n      <th>Skin</th>\n      <th>Quality</th>\n      <th>StatTrak</th>\n    </tr>\n  </thead>\n  <tbody>\n    <tr>\n      <th>0</th>\n      <td>Agents</td>\n      <td>Shattered Web Case</td>\n      <td>Soldier | Phoenix</td>\n      <td>Distinguished</td>\n      <td>False</td>\n    </tr>\n    <tr>\n      <th>1</th>\n      <td>Agents</td>\n      <td>Shattered Web Case</td>\n      <td>Ground Rebel  | Elite Crew</td>\n      <td>Distinguished</td>\n      <td>False</td>\n    </tr>\n    <tr>\n      <th>2</th>\n      <td>Agents</td>\n      <td>Shattered Web Case</td>\n      <td>Enforcer | Phoenix</td>\n      <td>Distinguished</td>\n      <td>False</td>\n    </tr>\n    <tr>\n      <th>3</th>\n      <td>Agents</td>\n      <td>Shattered Web Case</td>\n      <td>Operator | FBI SWAT</td>\n      <td>Distinguished</td>\n      <td>False</td>\n    </tr>\n    <tr>\n      <th>4</th>\n      <td>Agents</td>\n      <td>Shattered Web Case</td>\n      <td>B Squadron Officer | SAS</td>\n      <td>Distinguished</td>\n      <td>False</td>\n    </tr>\n    <tr>\n      <th>...</th>\n      <td>...</td>\n      <td>...</td>\n      <td>...</td>\n      <td>...</td>\n      <td>...</td>\n    </tr>\n    <tr>\n      <th>1787</th>\n      <td>Items</td>\n      <td>NaN</td>\n      <td>Prisma Case Key</td>\n      <td>NaN</td>\n      <td>False</td>\n    </tr>\n    <tr>\n      <th>1788</th>\n      <td>Items</td>\n      <td>NaN</td>\n      <td>Berlin 2019 Viewer Pass</td>\n      <td>NaN</td>\n      <td>False</td>\n    </tr>\n    <tr>\n      <th>1789</th>\n      <td>Items</td>\n      <td>NaN</td>\n      <td>Berlin 2019 Viewer Pass + 3 Souvenir Tokens</td>\n      <td>NaN</td>\n      <td>False</td>\n    </tr>\n    <tr>\n      <th>1790</th>\n      <td>Items</td>\n      <td>NaN</td>\n      <td>CS20 Case Key</td>\n      <td>NaN</td>\n      <td>False</td>\n    </tr>\n    <tr>\n      <th>1791</th>\n      <td>Items</td>\n      <td>NaN</td>\n      <td>Operation Shattered Web Premium Pass</td>\n      <td>NaN</td>\n      <td>False</td>\n    </tr>\n  </tbody>\n</table>\n<p>1792 rows × 5 columns</p>\n</div>"
     },
     "metadata": {},
     "execution_count": 19
    }
   ],
   "source": [
    "all_others = pd.read_excel(\"items_list/others_list.xlsx\")\n",
    "\n",
    "all_others"
   ]
  },
  {
   "cell_type": "code",
   "execution_count": 63,
   "metadata": {},
   "outputs": [],
   "source": [
    "def make_others_hash(weapon, skin, st):\n",
    "    if (weapon in (\"Agents\", \"Items\", \"Collectible Pins\")) | (\"StatTrak\" in skin): # certain items are formatted properly in list and dont need their weapon added to again\n",
    "        name = skin\n",
    "    else: \n",
    "        name = \"{0} | {1}\".format(weapon, skin)\n",
    "    if st:\n",
    "        name = \"StatTrak™ \" + name\n",
    "\n",
    "    formatted_name = name.replace(\" \", \"%20\") \n",
    "    formatted_name = formatted_name.replace(\"&\", \"%26\")\n",
    "    formatted_name = formatted_name.replace(\"|\", \"%7C\")\n",
    "    formatted_name = formatted_name.replace(\"+\", \"%2B\")\n",
    "    formatted_name = formatted_name.replace(\":\", \"%3A\")\n",
    "    formatted_name = formatted_name.replace(\"/\", \"-\")\n",
    "    formatted_name = formatted_name.replace(\",\", \"%2C\")\n",
    "    formatted_name = formatted_name.replace(\"(\", \"%28\")\n",
    "    formatted_name = formatted_name.replace(\")\", \"%29\")\n",
    "\n",
    "    return formatted_name"
   ]
  },
  {
   "cell_type": "code",
   "execution_count": 65,
   "metadata": {
    "tags": []
   },
   "outputs": [
    {
     "output_type": "stream",
     "name": "stdout",
     "text": "2020-09-16 03:05:14.284321 CURRENTLY SCRAPING ITEM: StatTrak™%20Music%20Kit%20%7C%20Neck%20Deep%2C%20Life's%20Not%20Out%20To%20Get%20You, NUMBER 1 OF 7 ITEMS\n2020-09-16 03:05:16.429761 CURRENTLY SCRAPING ITEM: StatTrak™%20Music%20Kit%20%7C%20Blitz%20Kids%2C%20The%20Good%20Youth, NUMBER 2 OF 7 ITEMS\n2020-09-16 03:05:20.101735 CURRENTLY SCRAPING ITEM: StatTrak™%20Music%20Kit%20%7C%20Roam%2C%20Backbone, NUMBER 3 OF 7 ITEMS\n2020-09-16 03:05:23.210343 CURRENTLY SCRAPING ITEM: StatTrak™%20Music%20Kit%20%7C%20Twin%20Atlantic%2C%20GLA, NUMBER 4 OF 7 ITEMS\n2020-09-16 03:05:30.569489 CURRENTLY SCRAPING ITEM: StatTrak™%20Music%20Kit%20%7C%20Hundredth%2C%20FREE, NUMBER 5 OF 7 ITEMS\n2020-09-16 03:05:33.758967 CURRENTLY SCRAPING ITEM: StatTrak™%20Music%20Kit%20%7C%20Beartooth%2C%20Aggressive, NUMBER 6 OF 7 ITEMS\n2020-09-16 03:05:36.254119 CURRENTLY SCRAPING ITEM: StatTrak™%20Music%20Kit%20%7C%20Skog%2C%20III-Arena, NUMBER 7 OF 7 ITEMS\nfinished!\n"
    }
   ],
   "source": [
    "other_history = {}\n",
    "i = 0\n",
    "current_num = 0\n",
    "total_items = len(all_others.index)\n",
    "\n",
    "for index, row in all_others.iterrows():\n",
    "    current_num += 1\n",
    "    if row[\"StatTrak\"]:\n",
    "        st_opt = (False, True)\n",
    "    else:\n",
    "        st_opt = (False,)\n",
    "    \n",
    "    for st in st_opt:\n",
    "        time.sleep(random.uniform(.5, 3)) # avoid steam rate limiting with a random sleep\n",
    "        name = make_others_hash(row[\"Weapon\"], row[\"Skin\"], st)\n",
    "        price_vol_history = get_history(name)\n",
    "        if price_vol_history == 1:\n",
    "            print(\"{0} HAS FAILED\".format(name))\n",
    "            continue\n",
    "        col_index = \"col_\" + str(i)\n",
    "        other_history[col_index] = [row[\"Weapon\"], row[\"Collection\"], row[\"Quality\"], row[\"Skin\"], None, st, None] + price_vol_history\n",
    "        i += 1\n",
    "    if current_num % 300 == 0: # saves the data to csv every 100 items to protect against crashes\n",
    "        print(\"made a new file!\")\n",
    "        skins_prices = pd.DataFrame.from_dict(other_history, orient = \"index\")\n",
    "        skins_prices.to_excel(\"others_query/others{}.xlsx\".format(current_num / 300))\n",
    "        other_history.clear()\n",
    "\n",
    "if other_history != {}:\n",
    "    print(\"finished!\")\n",
    "    skins_prices = pd.DataFrame.from_dict(other_history, orient = \"index\")\n",
    "    skins_prices.to_excel(\"others_query/others_final2.xlsx\")"
   ]
  },
  {
   "source": [
    "## Quick Data Cleaning\n",
    "\n",
    "A majority of the data cleaning occurs during analysis but before then a multilevel index is added to help organize all the dates. The following cells iterate through each file of chunked up files to create one big dataframe where an index is added and saved as an overarching xlsx file."
   ],
   "cell_type": "markdown",
   "metadata": {}
  },
  {
   "cell_type": "code",
   "execution_count": 24,
   "metadata": {},
   "outputs": [],
   "source": [
    "# create a multilevel index for organizing the days\n",
    "f = np.repeat([d.strftime(\"%Y-%m-%d\") for d in dates_list], 2)\n",
    "first_tier = [\"Weapon\", \"Collection\", \"Quality\", \"Skin\",\"Condition\", \"StatTrak\", \"Souvenir\"]\n",
    "second_tier = [\"\" for x in range(len(first_tier))] + [y for x in range(2602) for y in [\"Price\", \"Volume\"]]\n",
    "first_tier.extend(f)\n",
    "index = pd.MultiIndex.from_arrays([first_tier, second_tier])"
   ]
  },
  {
   "cell_type": "code",
   "execution_count": 27,
   "metadata": {},
   "outputs": [
    {
     "output_type": "execute_result",
     "data": {
      "text/plain": "5211"
     },
     "metadata": {},
     "execution_count": 27
    }
   ],
   "source": [
    "len(index)"
   ]
  },
  {
   "cell_type": "code",
   "execution_count": 48,
   "metadata": {},
   "outputs": [],
   "source": [
    "# turns all skin files into one big data frame\n",
    "path = r\"D:\\Code\\steam_market_tracker\\skins_query\"\n",
    "all_files = glob.glob(path + \"/*.xlsx\")\n",
    "\n",
    "li = []\n",
    "\n",
    "for filename in all_files:\n",
    "    df = pd.read_excel(filename, index_col = None, header = 0)\n",
    "    li.append(df)\n",
    "\n",
    "skins_history = pd.concat(li, axis = 0, ignore_index = True)\n",
    "\n",
    "del skins_history[\"Unnamed: 0\"] # deletes the column name generated"
   ]
  },
  {
   "cell_type": "code",
   "execution_count": null,
   "metadata": {},
   "outputs": [],
   "source": [
    "skins_history = skins_history.drop_duplicates()\n",
    "skins_history.columns = index\n",
    "skins_history.to_excel(\"datasets/all_skins.xlsx\")"
   ]
  },
  {
   "cell_type": "code",
   "execution_count": null,
   "metadata": {},
   "outputs": [],
   "source": [
    "# turns all sticker files into one big data frame\n",
    "path = r\"D:\\Code\\steam_market_tracker\\stickerss_query\"\n",
    "all_files = glob.glob(path + \"/*.xlsx\")\n",
    "\n",
    "li = []\n",
    "\n",
    "for filename in all_files:\n",
    "    df = pd.read_excel(filename, index_col = None, header = 0)\n",
    "    li.append(df)\n",
    "\n",
    "stickers_history = pd.concat(li, axis = 0, ignore_index = True)\n",
    "\n",
    "del stickers_history[\"Unnamed: 0\"] # deletes the column name generated"
   ]
  },
  {
   "cell_type": "code",
   "execution_count": 61,
   "metadata": {},
   "outputs": [],
   "source": [
    "stickers_history = stickers_history.drop_duplicates()\n",
    "stickers_history.columns = index\n",
    "stickers_history.to_excel(\"datasets/all_stickers.xlsx\")"
   ]
  },
  {
   "cell_type": "code",
   "execution_count": 25,
   "metadata": {},
   "outputs": [],
   "source": [
    "# turns all other files into one big data frame\n",
    "path = r\"D:\\Code\\steam_market_tracker\\others_query\"\n",
    "all_files = glob.glob(path + \"/*.xlsx\")\n",
    "\n",
    "li = []\n",
    "\n",
    "for filename in all_files:\n",
    "    df = pd.read_excel(filename, index_col = None, header = 0)\n",
    "    li.append(df)\n",
    "\n",
    "others_history = pd.concat(li, axis = 0, ignore_index = True)\n",
    "\n",
    "del others_history[\"Unnamed: 0\"] # deletes the column name generated"
   ]
  },
  {
   "cell_type": "code",
   "execution_count": 56,
   "metadata": {},
   "outputs": [],
   "source": [
    "others_history = others_history.drop_duplicates()\n",
    "others_history.columns = index\n",
    "others_history.to_excel(\"datasets/all_others.xlsx\")"
   ]
  },
  {
   "source": [
    "## Other Functions\n",
    "\n",
    "The following function was used to clean up data as I originally had forgotten to add a collection and quality column."
   ],
   "cell_type": "markdown",
   "metadata": {}
  },
  {
   "cell_type": "code",
   "execution_count": 59,
   "metadata": {},
   "outputs": [],
   "source": [
    "# originally forgot to add collection and quality name \n",
    "# ... oops\n",
    "# writes the proper weapon and collection by iterating through the all skins list and comparing it to the price history dataframe\n",
    "# Is used prior to indexing the dataframe\n",
    "\n",
    "frame.insert(1, \"Collection\", None)\n",
    "frame.insert(2, \"Quality\", None)\n",
    "\n",
    "for index, row in all_skins.iterrows():\n",
    "    weapon = row[\"Weapon\"]\n",
    "    collection = row[\"Collection\"]\n",
    "    skin = row[\"Skin\"]\n",
    "    quality = row[\"Quality\"]\n",
    "    certain_skin_index = frame.index[(frame[\"Weapon\"] == weapon) & (frame[\"Skin\"] == skin)].tolist()\n",
    "\n",
    "    for x in certain_skin_index:\n",
    "        frame.iat[x, 1] = collection\n",
    "        frame.iat[x, 2] = quality"
   ]
  }
 ]
}